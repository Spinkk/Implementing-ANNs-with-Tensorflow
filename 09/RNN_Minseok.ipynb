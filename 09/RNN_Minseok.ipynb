{
  "nbformat": 4,
  "nbformat_minor": 0,
  "metadata": {
    "kernelspec": {
      "display_name": "Python 3",
      "language": "python",
      "name": "python3"
    },
    "language_info": {
      "codemirror_mode": {
        "name": "ipython",
        "version": 3
      },
      "file_extension": ".py",
      "mimetype": "text/x-python",
      "name": "python",
      "nbconvert_exporter": "python",
      "pygments_lexer": "ipython3",
      "version": "3.8.5"
    },
    "colab": {
      "name": "RNN Minseok.ipynb",
      "provenance": [],
      "collapsed_sections": [],
      "include_colab_link": true
    },
    "accelerator": "GPU"
  },
  "cells": [
    {
      "cell_type": "markdown",
      "metadata": {
        "id": "view-in-github",
        "colab_type": "text"
      },
      "source": [
        "<a href=\"https://colab.research.google.com/github/Spinkk/Implementing-ANNs-with-Tensorflow/blob/main/09/RNN_Minseok.ipynb\" target=\"_parent\"><img src=\"https://colab.research.google.com/assets/colab-badge.svg\" alt=\"Open In Colab\"/></a>"
      ]
    },
    {
      "cell_type": "code",
      "metadata": {
        "id": "FQRWnhmhT09Q"
      },
      "source": [
        "import time\n",
        "import tensorflow as tf\n",
        "import numpy as np\n",
        "import matplotlib.pyplot as plt\n"
      ],
      "execution_count": 13,
      "outputs": []
    },
    {
      "cell_type": "markdown",
      "metadata": {
        "id": "djVyX2L2rVEZ"
      },
      "source": [
        "# 1. The task\n",
        "\n",
        "In my understanding, queries can be variable or fixed over time. Here, I use changing queries for each timepoint. Labels have two binary dimensions, where 0 means less common and 1 means equally or more common. This means (1,0): first query is more common, (0,1): second query is more common, (1,1); both are equally common. The occurence is counted cumulatively, i.e. until the current timepoint."
      ]
    },
    {
      "cell_type": "code",
      "metadata": {
        "id": "ceE5WpUeT09a"
      },
      "source": [
        "# we can't give arguments to generator\n",
        "t = 20  # length of timestep of sequences\n",
        "batch_size = 32  \n",
        "\n",
        "def data_gen_batch ():\n",
        "    \"\"\"\n",
        "    Generate a batch of (input, label) pairs. Input is two query and one sequence digits for each timepoint.\n",
        "    Output indicates which of two queries occur more frequently for each timepoint cumulatively.    \n",
        "    \"\"\"\n",
        "\n",
        "    while True:\n",
        "        x = np.random.randint(0, 10, (batch_size,t), dtype=np.int32) # actual input sequence\n",
        "        c1 = np.random.randint(0, 10, (batch_size,t), dtype=np.int32)  # context 1\n",
        "        c2 = np.random.randint(0, 10, (batch_size,t), dtype=np.int32)  # context 2\n",
        "\n",
        "        def cumulative_occurence (seq, context):\n",
        "            occ = np.zeros((batch_size,t))\n",
        "            # occurence for a slice of sequence until time point i\n",
        "            for i in range(t):\n",
        "                # context digit at time i is broadcasted to match dim of seq\n",
        "                cb = np.repeat(np.array([context[:,i]]).T, i+1, axis=1)\n",
        "                # count how often digits match for each sample in a batch\n",
        "                occ[:,i] = np.count_nonzero(seq[:, :i+1] == cb, axis=1)\n",
        "            return occ\n",
        "        \n",
        "        count1 = cumulative_occurence(x,c1)\n",
        "        count2 = cumulative_occurence(x,c2)\n",
        "        label = np.array([count1 >= count2, count2 >= count1])  # (1,0): c1>c2, (0,1):c2>c1, (1,1):c1=c2\n",
        "        label = np.transpose(label, (2,1,0))\n",
        "        input = tf.concat([tf.one_hot(x,10), tf.one_hot(c1,10), tf.one_hot(c2,10)],-1)\n",
        "        input = np.transpose(input, (1,0,2))\n",
        "              \n",
        "        yield (input,label)  # one-hot encoded then concatanated\n",
        "        \n",
        "\n",
        "# create dataset from the generator above with fixed output shapes\n",
        "ds = tf.data.Dataset.from_generator(generator=data_gen_batch,\n",
        "                                    output_types=(tf.float32, tf.float32),\n",
        "                                    output_shapes=((t,batch_size,30), (t,batch_size,2))\n",
        "                                    )"
      ],
      "execution_count": 2,
      "outputs": []
    },
    {
      "cell_type": "code",
      "metadata": {
        "colab": {
          "base_uri": "https://localhost:8080/"
        },
        "id": "WAQn5dT4eQRR",
        "outputId": "cd31d1e9-960c-4034-8e8e-ee703ad5380f"
      },
      "source": [
        "# example batch dimension\n",
        "for input,label in ds.take(1):\n",
        "    print(input.shape)\n",
        "    print(label.shape)"
      ],
      "execution_count": 3,
      "outputs": [
        {
          "output_type": "stream",
          "text": [
            "(20, 32, 30)\n",
            "(20, 32, 2)\n"
          ],
          "name": "stdout"
        }
      ]
    },
    {
      "cell_type": "markdown",
      "metadata": {
        "id": "Ltw2qRqfT09g"
      },
      "source": [
        "# 2. Model\n",
        "\n",
        "- The network consists of three layers. Input dense layer, single RNN node and output dense layer.\n",
        "\n",
        "- We unroll the network using the for loop\n",
        "\n",
        "\n",
        "d: input dimension, dependent of number of units in read-in layer.\n",
        "\n",
        "h: hidden dimension, representing the complexity of hidden state. Part of user design.\n",
        "\n",
        "\n",
        "\n",
        "$[h_{t-1},x_t] = (d+h,1)$\n",
        "\n",
        "$W_g = (h,d+h)$ with $g = \\{f,i,C,o\\}$\n",
        "\n",
        "$b_g = (h,1)$\n",
        "\n",
        "$g_t = (h,1)$\n",
        "\n",
        "Typical equation for gate update is\n",
        "$g_t = \\sigma ( W_g \\cdot [h_{t-1},x_t]  + b_g)$\n",
        "where dimensions are\n",
        "\n",
        "$(h,1) = (h,d+h) (d+h,1) + (h,1)$"
      ]
    },
    {
      "cell_type": "code",
      "metadata": {
        "id": "93tTbvNhT09p"
      },
      "source": [
        "class LSTM_cell (tf.keras.layers.Layer):\n",
        "    def __init__(self, hidden_dim = 100):\n",
        "        super(LSTM_cell, self).__init__()\n",
        "        self.h = hidden_dim\n",
        "\n",
        "\n",
        "    def build(self, input_shape=100):        \n",
        "        d = input_shape[1]  # 0 is batch size\n",
        "        h = self.h\n",
        "        \n",
        "        # dimension of output vector and weight matrix\n",
        "        output_shape = (h,)  \n",
        "        weight_shape = (h+d,h) \n",
        "        \n",
        "        # forget gate\n",
        "        self.w_f = self.add_weight(shape= weight_shape,\n",
        "                                   initializer=tf.random_normal_initializer(),\n",
        "                                   trainable=True)\n",
        "        \n",
        "        self.b_f = self.add_weight(shape=output_shape,\n",
        "                                   # bias of forget gate is initially 1\n",
        "                                   initializer=tf.keras.initializers.Constant(value=1.0),\n",
        "                                   trainable=True)\n",
        "        # input gate\n",
        "        self.w_i = self.add_weight(shape=weight_shape,\n",
        "                                   initializer=tf.random_normal_initializer(),\n",
        "                                   trainable=True)\n",
        "        \n",
        "        self.b_i = self.add_weight(shape=output_shape,\n",
        "                                   initializer=tf.random_normal_initializer(),\n",
        "                                   trainable=True)\n",
        "        \n",
        "        # candidate layer\n",
        "        self.w_c = self.add_weight(shape=weight_shape,\n",
        "                                   initializer=tf.random_normal_initializer(),\n",
        "                                   trainable=True)\n",
        "        \n",
        "        self.b_c = self.add_weight(shape=output_shape, \n",
        "                                   initializer=tf.random_normal_initializer(),\n",
        "                                   trainable=True)\n",
        "        \n",
        "        # output gate\n",
        "        self.w_o = self.add_weight(shape=weight_shape,\n",
        "                                   initializer=tf.random_normal_initializer(),\n",
        "                                   trainable=True)\n",
        "        \n",
        "        self.b_o = self.add_weight(shape=output_shape, \n",
        "                                   initializer=tf.random_normal_initializer(),\n",
        "                                   trainable=True)\n",
        "        \n",
        "\n",
        "    def call(self, x_t, h_t, C_t):\n",
        "        # concatenate previous hidden_state and current input (shape is 20,1)\n",
        "        concat = tf.concat([h_t, x_t], axis=1) # across axis with size 30 for input!\n",
        "        # calculate f_t (the forget gate)\n",
        "        f_t = tf.nn.sigmoid( tf.linalg.matmul(concat,self.w_f) + self.b_f )                                                                              \n",
        "        # calculate the input gate i_t\n",
        "        i_t = tf.nn.sigmoid( tf.linalg.matmul(concat,self.w_i) + self.b_i )\n",
        "        # calculate the Cell state candidates (C_hat)\n",
        "        C_hat_t = tf.nn.tanh( tf.linalg.matmul(concat,self.w_c) + self.b_c )\n",
        "        # calculate the Cell state (C_t)\n",
        "        C_t = f_t * C_t + i_t * C_hat_t\n",
        "        # calculate the output state (o_t)\n",
        "        o_t = tf.nn.sigmoid(tf.linalg.matmul(concat,self.w_o) + self.b_o )\n",
        "        # calculate the new hidden state (h_t)\n",
        "        h_t = o_t * tf.nn.tanh(C_t)\n",
        "        \n",
        "        return h_t, C_t"
      ],
      "execution_count": 4,
      "outputs": []
    },
    {
      "cell_type": "code",
      "metadata": {
        "colab": {
          "base_uri": "https://localhost:8080/"
        },
        "id": "Nj1rASg0YEnU",
        "outputId": "2b56d245-8c33-4658-b67e-abdf67df161c"
      },
      "source": [
        "# example of one forward computation of LSTM cell\n",
        "cell = LSTM_cell(hidden_dim=4)\n",
        "cell(tf.constant([[1.0, 2, 3]]), tf.constant([[1, 1, 1.0, 1]]), tf.constant([[0.0]]))\n"
      ],
      "execution_count": 5,
      "outputs": [
        {
          "output_type": "execute_result",
          "data": {
            "text/plain": [
              "(<tf.Tensor: shape=(1, 4), dtype=float32, numpy=\n",
              " array([[ 0.06850173, -0.0198581 ,  0.0546665 ,  0.06519223]],\n",
              "       dtype=float32)>, <tf.Tensor: shape=(1, 4), dtype=float32, numpy=\n",
              " array([[ 0.16173248, -0.04295301,  0.12119889,  0.15963387]],\n",
              "       dtype=float32)>)"
            ]
          },
          "metadata": {
            "tags": []
          },
          "execution_count": 5
        }
      ]
    },
    {
      "cell_type": "code",
      "metadata": {
        "id": "zna3KvZVT091"
      },
      "source": [
        "class LSTM_net (tf.keras.Model):\n",
        "    '''\n",
        "    Build a LSTM net with a single recurrent node\n",
        "    '''\n",
        "    def __init__(self, hidden_dim=100, readin_dim=100):\n",
        "        super(LSTM_net, self).__init__()\n",
        "        self.h = hidden_dim\n",
        "        self.readin = tf.keras.layers.Dense(readin_dim)\n",
        "        self.recurrent = LSTM_cell(hidden_dim = self.h)\n",
        "        self.readout = tf.keras.layers.Dense(2, activation = \"sigmoid\")\n",
        "        \n",
        "        \n",
        "    def call(self, x):            \n",
        "        # reset hidden and cell state to an inital state\n",
        "        # (batch_size, h) to have different states for each sample\n",
        "        self.hidden_state = tf.zeros((x.shape[1], self.h))\n",
        "        self.cell_state = tf.ones((x.shape[1], self.h))\n",
        "        # tensorarray to save output sequences of the network\n",
        "        self.outputs = tf.TensorArray(dtype = tf.float32, size=0, dynamic_size=True)\n",
        "        # unrolling network by iterative forward computation\n",
        "        for i in tf.range(x.shape[0]):  # x has dimension of (time, batch, 30)\n",
        "            digit = self.readin(x[i])  # x at time i\n",
        "            # update h_t and C_t to save externally\n",
        "            self.hidden_state, self.cell_state = self.recurrent(digit, self.hidden_state, self.cell_state)\n",
        "            digit = self.readout(self.hidden_state)\n",
        "            # save output for time i\n",
        "            self.outputs = self.outputs.write(i, # expand dim to concat later\n",
        "                                              tf.expand_dims(digit, axis=0)) \n",
        "        self.outputs = self.outputs.concat()  \n",
        "        return self.outputs"
      ],
      "execution_count": 6,
      "outputs": []
    },
    {
      "cell_type": "code",
      "metadata": {
        "scrolled": false,
        "colab": {
          "base_uri": "https://localhost:8080/"
        },
        "id": "pYB0CNX0T095",
        "outputId": "2d5a7f5a-3f03-4071-b0c6-f63b73e88cd2"
      },
      "source": [
        "# example of forward computation\n",
        "lstm = LSTM_net()\n",
        "for x,target in ds.take(1):\n",
        "    res = lstm(x)\n",
        "res.shape"
      ],
      "execution_count": 7,
      "outputs": [
        {
          "output_type": "execute_result",
          "data": {
            "text/plain": [
              "TensorShape([20, 32, 2])"
            ]
          },
          "metadata": {
            "tags": []
          },
          "execution_count": 7
        }
      ]
    },
    {
      "cell_type": "markdown",
      "metadata": {
        "id": "5MnsgcPAcVbV"
      },
      "source": [
        "# 3. Training\n",
        "\n",
        "## Regression vs Classification\n",
        "\n",
        "We chose to model the task as a classification task because the answer our model is supposed to give is discrete (binary choices and not a continous variable that needs to be predicted). We chose Categorical Crossentropy because we have two sigmoid outputs (1 if the count for the first context number is greater equal the count for the second context number and 0 if it's smaller)\n",
        "\n",
        "## Truncated Backpropagation Through Time?\n",
        "\n",
        "Since we only have a sequence length of 20, truncation will not be necessary. The unrolled network is not too deep so we don't have major issues with vanishing gradients.+"
      ]
    },
    {
      "cell_type": "code",
      "metadata": {
        "id": "Vq55sMIdd03X"
      },
      "source": [
        "class Timer():\n",
        "    \"\"\"\n",
        "    A small class for making timings.\n",
        "    \"\"\"\n",
        "    def __init__(self):\n",
        "        self._start_time = None\n",
        "\n",
        "    def start(self):\n",
        "        \"\"\"\n",
        "        Start a new timer\n",
        "        \"\"\"\n",
        "        if self._start_time is not None:\n",
        "            raise TimerError(f\"Timer is running. Use .stop() to stop it\")\n",
        "\n",
        "        self._start_time = time.perf_counter()\n",
        "\n",
        "    def stop(self):\n",
        "        \"\"\"\n",
        "        Stop the timer, and report the elapsed time\n",
        "        \"\"\"\n",
        "        if self._start_time is None:\n",
        "            print(f\"Timer is not running. Use .start() to start it\")\n",
        "            return 0\n",
        "    \n",
        "        elapsed_time = time.perf_counter() - self._start_time\n",
        "        self._start_time = None\n",
        "        return elapsed_time"
      ],
      "execution_count": 8,
      "outputs": []
    },
    {
      "cell_type": "code",
      "metadata": {
        "id": "fxJ0flKPcXFC"
      },
      "source": [
        "@tf.function\n",
        "def train_step(model, ds, loss_function, optimizer, train_loss_metric, train_acc_metric):\n",
        "    '''\n",
        "    Training for one epoch.\n",
        "    '''\n",
        "\n",
        "    for seq, target in ds.take(100): # use 100 batch per epoch\n",
        "        # forward pass with GradientTape\n",
        "        with tf.GradientTape() as tape:\n",
        "            prediction = model(seq)\n",
        "            loss = loss_function(target, prediction)\n",
        "\n",
        "        # backward pass via GradienTape (auto-gradient calc)\n",
        "        gradients = tape.gradient(loss, model.trainable_variables)\n",
        "        optimizer.apply_gradients(zip(gradients, model.trainable_variables))\n",
        "\n",
        "        # update metrics\n",
        "        train_loss_metric.update_state(loss)\n",
        "        train_acc_metric.update_state(target, prediction)"
      ],
      "execution_count": 9,
      "outputs": []
    },
    {
      "cell_type": "code",
      "metadata": {
        "id": "-tITjr3wcc0W"
      },
      "source": [
        "# hyperparams\n",
        "epochs = 20\n",
        "learning_rate = 0.0005\n",
        "batch_size = 32\n",
        "\n",
        "tf.keras.backend.clear_session()\n",
        "timer = Timer()\n",
        "\n",
        "model = LSTM_net()\n",
        "\n",
        "loss_function = tf.keras.losses.CategoricalCrossentropy()\n",
        "optimizer = tf.keras.optimizers.Adam(learning_rate)\n",
        "\n",
        "# prepare metrics\n",
        "train_acc_metric = tf.keras.metrics.CategoricalAccuracy('train_accuracy')\n",
        "train_loss_metric = tf.keras.metrics.Mean('train_loss')\n",
        "\n",
        "# Initialize lists for later visualization.\n",
        "train_losses = []\n",
        "train_accuracies = []\n",
        "times = []"
      ],
      "execution_count": 10,
      "outputs": []
    },
    {
      "cell_type": "code",
      "metadata": {
        "colab": {
          "base_uri": "https://localhost:8080/"
        },
        "id": "NKo3inBRcfPD",
        "outputId": "f1b7979e-a9cd-41af-f297-d90ed86ee511"
      },
      "source": [
        "print(f'[INFO] - Started training of the {model.name}.')\n",
        "\n",
        "for epoch in range(epochs):\n",
        "    print(f'\\n[EPOCH] ____________________{epoch}____________________')\n",
        "    \n",
        "    # training step with metrics update--------------------------------------------------------\n",
        "    timer.start()\n",
        "\n",
        "    train_step(model, ds,loss_function, optimizer, train_loss_metric, train_acc_metric)\n",
        "\n",
        "    # Evaluating training metrics\n",
        "    train_loss = train_loss_metric.result()\n",
        "    train_acc = train_acc_metric.result()\n",
        "    train_losses.append(train_loss)\n",
        "    train_accuracies.append(train_acc)\n",
        "    train_acc_metric.reset_states()\n",
        "    train_loss_metric.reset_states()\n",
        "    \n",
        "    elapsed_time = timer.stop()\n",
        "    times.append(elapsed_time)\n",
        "    \n",
        "    print(f'[{epoch}] - Finished Epoch in {elapsed_time:0.2f} seconds - train_loss: {train_loss:0.4f}, train_acc: {train_acc:0.4f}')\n",
        "  \n",
        "    if epoch%3 == 0:\n",
        "        print(f'\\n[INFO] - Total time elapsed: {np.sum(times)/60:0.4f} min. Total time remaining: {(np.sum(times)/(epoch+1))*(epochs-epoch-1)/60:0.4f} min.')\n",
        "\n",
        "print(f'[INFO] - Total run time: {np.sum(times)/60:0.4f} min.')"
      ],
      "execution_count": 11,
      "outputs": [
        {
          "output_type": "stream",
          "text": [
            "[INFO] - Started training of the lstm_net.\n",
            "\n",
            "[EPOCH] ____________________0____________________\n",
            "Timer is not running. Use .start() to start it\n",
            "[0] - Finished Epoch in 0.00 seconds - train_loss: 0.9807, train_acc: 0.4732\n",
            "\n",
            "[INFO] - Total time elapsed: 0.0000 min. Total time remaining: 0.0000 min.\n",
            "\n",
            "[EPOCH] ____________________1____________________\n",
            "Timer is not running. Use .start() to start it\n",
            "[1] - Finished Epoch in 0.00 seconds - train_loss: 0.9811, train_acc: 0.5227\n",
            "\n",
            "[EPOCH] ____________________2____________________\n",
            "Timer is not running. Use .start() to start it\n",
            "[2] - Finished Epoch in 0.00 seconds - train_loss: 0.9696, train_acc: 0.5641\n",
            "\n",
            "[EPOCH] ____________________3____________________\n",
            "Timer is not running. Use .start() to start it\n",
            "[3] - Finished Epoch in 0.00 seconds - train_loss: 0.9233, train_acc: 0.6510\n",
            "\n",
            "[INFO] - Total time elapsed: 0.0000 min. Total time remaining: 0.0000 min.\n",
            "\n",
            "[EPOCH] ____________________4____________________\n",
            "Timer is not running. Use .start() to start it\n",
            "[4] - Finished Epoch in 0.00 seconds - train_loss: 0.8813, train_acc: 0.6871\n",
            "\n",
            "[EPOCH] ____________________5____________________\n",
            "Timer is not running. Use .start() to start it\n",
            "[5] - Finished Epoch in 0.00 seconds - train_loss: 0.8469, train_acc: 0.7084\n",
            "\n",
            "[EPOCH] ____________________6____________________\n",
            "Timer is not running. Use .start() to start it\n",
            "[6] - Finished Epoch in 0.00 seconds - train_loss: 0.8057, train_acc: 0.7353\n",
            "\n",
            "[INFO] - Total time elapsed: 0.0000 min. Total time remaining: 0.0000 min.\n",
            "\n",
            "[EPOCH] ____________________7____________________\n",
            "Timer is not running. Use .start() to start it\n",
            "[7] - Finished Epoch in 0.00 seconds - train_loss: 0.7581, train_acc: 0.7618\n",
            "\n",
            "[EPOCH] ____________________8____________________\n",
            "Timer is not running. Use .start() to start it\n",
            "[8] - Finished Epoch in 0.00 seconds - train_loss: 0.7171, train_acc: 0.7797\n",
            "\n",
            "[EPOCH] ____________________9____________________\n",
            "Timer is not running. Use .start() to start it\n",
            "[9] - Finished Epoch in 0.00 seconds - train_loss: 0.6864, train_acc: 0.7868\n",
            "\n",
            "[INFO] - Total time elapsed: 0.0000 min. Total time remaining: 0.0000 min.\n",
            "\n",
            "[EPOCH] ____________________10____________________\n",
            "Timer is not running. Use .start() to start it\n",
            "[10] - Finished Epoch in 0.00 seconds - train_loss: 0.6676, train_acc: 0.7882\n",
            "\n",
            "[EPOCH] ____________________11____________________\n",
            "Timer is not running. Use .start() to start it\n",
            "[11] - Finished Epoch in 0.00 seconds - train_loss: 0.6571, train_acc: 0.7875\n",
            "\n",
            "[EPOCH] ____________________12____________________\n",
            "Timer is not running. Use .start() to start it\n",
            "[12] - Finished Epoch in 0.00 seconds - train_loss: 0.6457, train_acc: 0.7909\n",
            "\n",
            "[INFO] - Total time elapsed: 0.0000 min. Total time remaining: 0.0000 min.\n",
            "\n",
            "[EPOCH] ____________________13____________________\n",
            "Timer is not running. Use .start() to start it\n",
            "[13] - Finished Epoch in 0.00 seconds - train_loss: 0.6430, train_acc: 0.7918\n",
            "\n",
            "[EPOCH] ____________________14____________________\n",
            "Timer is not running. Use .start() to start it\n",
            "[14] - Finished Epoch in 0.00 seconds - train_loss: 0.6376, train_acc: 0.7932\n",
            "\n",
            "[EPOCH] ____________________15____________________\n",
            "Timer is not running. Use .start() to start it\n",
            "[15] - Finished Epoch in 0.00 seconds - train_loss: 0.6325, train_acc: 0.7928\n",
            "\n",
            "[INFO] - Total time elapsed: 0.0000 min. Total time remaining: 0.0000 min.\n",
            "\n",
            "[EPOCH] ____________________16____________________\n",
            "Timer is not running. Use .start() to start it\n",
            "[16] - Finished Epoch in 0.00 seconds - train_loss: 0.6314, train_acc: 0.7919\n",
            "\n",
            "[EPOCH] ____________________17____________________\n",
            "Timer is not running. Use .start() to start it\n",
            "[17] - Finished Epoch in 0.00 seconds - train_loss: 0.6253, train_acc: 0.7899\n",
            "\n",
            "[EPOCH] ____________________18____________________\n",
            "Timer is not running. Use .start() to start it\n",
            "[18] - Finished Epoch in 0.00 seconds - train_loss: 0.6267, train_acc: 0.7917\n",
            "\n",
            "[INFO] - Total time elapsed: 0.0000 min. Total time remaining: 0.0000 min.\n",
            "\n",
            "[EPOCH] ____________________19____________________\n",
            "Timer is not running. Use .start() to start it\n",
            "[19] - Finished Epoch in 0.00 seconds - train_loss: 0.6212, train_acc: 0.7928\n",
            "[INFO] - Total run time: 0.0000 min.\n"
          ],
          "name": "stdout"
        }
      ]
    },
    {
      "cell_type": "code",
      "metadata": {
        "colab": {
          "base_uri": "https://localhost:8080/",
          "height": 458
        },
        "id": "58Xfm1d-8P-b",
        "outputId": "3753f196-2faa-4e2c-913c-c1efcb76eefa"
      },
      "source": [
        "fig, axes = plt.subplots(nrows=1, ncols=2, figsize=(20,7))\n",
        "\n",
        "x = np.arange(len(train_losses))\n",
        "\n",
        "# losses\n",
        "axes[0].plot(x, train_losses, label='train')\n",
        "# axes[0].plot(x, test_losses, label='test')\n",
        "axes[0].legend()\n",
        "axes[0].set(title='Losses', xlabel='Epoch', ylabel='loss')\n",
        "\n",
        "# accuracies\n",
        "axes[1].plot(x, train_accuracies, label='train')\n",
        "# axes[1].plot(x, test_accuracies, label='test')\n",
        "axes[1].legend()\n",
        "axes[1].set(title='Accuracies', xlabel='Epoch', ylabel='accuracy')\n",
        "\n",
        "plt.show()\n",
        "\n"
      ],
      "execution_count": 14,
      "outputs": [
        {
          "output_type": "display_data",
          "data": {
            "image/png": "[encoded data removed]",
            "text/plain": [
              "<Figure size 1440x504 with 2 Axes>"
            ]
          },
          "metadata": {
            "tags": [],
            "needs_background": "light"
          }
        }
      ]
    }
  ]
}