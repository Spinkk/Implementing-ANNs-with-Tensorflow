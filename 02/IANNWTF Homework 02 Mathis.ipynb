{
 "cells": [
  {
   "cell_type": "code",
   "execution_count": 295,
   "metadata": {},
   "outputs": [],
   "source": [
    "import numpy as np\n",
    "import matplotlib.pyplot as plt\n",
    "import random"
   ]
  },
  {
   "cell_type": "markdown",
   "metadata": {},
   "source": [
    "First we define the possible inputs for the logical operators in an array x and create arrays for 5 logical operators specifying which elements of x as inputs evaluate as True and which of them evaluate as False."
   ]
  },
  {
   "cell_type": "code",
   "execution_count": 287,
   "metadata": {},
   "outputs": [],
   "source": [
    "x = np.array([[0,0],[0,1],[1,0],[1,1]])\n",
    "\n",
    "target_and = np.array([0,0,0,1])\n",
    "target_or = np.array([0,1,1,1])\n",
    "target_nand = np.array([1,1,1,0])\n",
    "target_xor = np.array([0,1,1,0])\n",
    "target_nor = np.array([1,0,0,0])"
   ]
  },
  {
   "cell_type": "markdown",
   "metadata": {},
   "source": [
    "Now we define some functions that we will use. We define the sigmoid and it's derivative where we define the derivative without referring to the sigmoid function to make use of previously computed activation values in the backpropagation scheme. \n",
    "\n",
    "We also define a function to evaluate the accuracy of our logical-gate model later on."
   ]
  },
  {
   "cell_type": "code",
   "execution_count": 288,
   "metadata": {},
   "outputs": [],
   "source": [
    "def sigmoid(x):\n",
    "    return 1 / (1 + np.exp(-1*x))\n",
    "\n",
    "def sigmoid_prime(sigm):\n",
    "    \"\"\"\n",
    "    If sigm is the result of sigmoid(x), this computes the derivative of sigmoid(x)\n",
    "    \"\"\"\n",
    "    return sigm*(1-sigm)\n",
    "\n",
    "def accuracy_func(t, y_hat):\n",
    "    if ((t==1) and (y_hat>=0.5)) or ((t==0) and (y_hat<0.5)):\n",
    "        return True\n",
    "    else:\n",
    "        return False"
   ]
  },
  {
   "cell_type": "markdown",
   "metadata": {},
   "source": [
    "We define a class for individual Perceptrons. These will be the basis for our MLP. Each Perceptron can be thought of as a unit with inputs that are taken into a weighted sum by the weights that are are stored in a variable of the Perceptron. These weights are a 1D array (or a vector) and they contain at index 0 the Perceptron's bias. So we incorporated the bias into the weights, which means we also have to add an additional value of 1 at index 0 to the Perceptron's inputs.\n",
    "\n",
    "The result is called the Perceptron's drive on which an activation function (here by default set to be the sigmoid function) is applied, the result of which is called the Perceptron's activation.\n",
    "\n",
    "The idea of storing the activation and drive inside the neuron is so we can reuse these values, saving computational cost of computing them again. \n",
    "\n",
    "Finally we also define an update method for the Perceptron's weights (including the bias). This update method needs the error signal (delta) of the Perceptron. It can be understood as the contribution to the network error of this unit. "
   ]
  },
  {
   "cell_type": "code",
   "execution_count": 289,
   "metadata": {},
   "outputs": [],
   "source": [
    "class Perceptron:\n",
    "    \n",
    "    def __init__(self, input_units, act_func= sigmoid):\n",
    "        # set number of inputs\n",
    "        self.input_units = input_units\n",
    "        \n",
    "        # initialize weighted connections from inputs to the Perceptron\n",
    "        self.weights = np.random.randn(input_units +1) # +1 for bias weights\n",
    "        \n",
    "        # set learning rate to be 0.3 instead of 0.01 to converge with fewer epochs\n",
    "        self.lr = 0.3\n",
    "        \n",
    "        # initialize activation function variable\n",
    "        self.act_func = act_func\n",
    "        \n",
    "        # to keep track of this Perceptron's drive and activation, initialize variables for drive\n",
    "        # and the inputs it receives.\n",
    "        self.drive = 0\n",
    "        self.inputs = 0\n",
    "        self.activation = 0\n",
    "        \n",
    "        # initialize the error signal for the perceptron\n",
    "        self.delta = None\n",
    "        \n",
    "    def forward_step(self, inputs):\n",
    "        \"\"\"\n",
    "        Performs a forward step for the perceptron.\n",
    "        \"\"\"\n",
    "        \n",
    "        # insert a value of 1 as the first entry in the perceptrons inputs \n",
    "        #(activations from previous layer or the MLPs input) for the bias \n",
    "        self.inputs = np.insert(inputs,0,1)\n",
    "        \n",
    "        # calculate the weighted sum of inputs weighted by their weights\n",
    "        self.drive =  self.weights @ self.inputs\n",
    "        \n",
    "        # return the activation for the Perceptron given the inputs and weights(including bias)\n",
    "        self.activation = self.act_func(self.drive)\n",
    "        return self.activation\n",
    "    \n",
    "    def update(self, delta):\n",
    "        \"\"\"\n",
    "        This will allow to update weights associated with this perceptron given that we have it's delta.\n",
    "        \"\"\"\n",
    "        \n",
    "        # compute gradients of the weights to this perceptron (including bias) by multiplying it's error signal with\n",
    "        # the it's unweighted inputs (including a 1 at index 0 for the bias weights)\n",
    "        gradient_weights = delta * self.inputs\n",
    "        \n",
    "        # update the weights (including bias) by subtracting learning rate * gradients \n",
    "        self.weights -= self.lr * gradient_weights"
   ]
  },
  {
   "cell_type": "markdown",
   "metadata": {},
   "source": [
    "The idea now is to rely on this class of individual Perceptrons with their own weights (connections to the Perceptron's input) for building a neural network, a multi-layer-perceptron, MLP.\n",
    "\n",
    "We define this class such that it is possible to specify the input dimensions, the number of hidden layers and the output dimensions (though with the current activation functions applied to output units, it is intended to use only one output). \n",
    "\n",
    "An MLP consists of hidden layers, where the first layer is connected to the input, and the output units. For each hidden layer we instantiate the number of Perceptrons given by the argument total_dim. We make sure that the number of weights of these Perceptrons matches the number of Perceptrons or input units in the previous layer. \n",
    "\n",
    "Since each Perceptron can compute it's drive and activation given that we already know the previous activations/inputs, in the MLP-forward-step, we just go through the hidden units layer by layer and in each layer unit by unit and calculate their outputs (these are then stored in the Perceptron objects activation variable). Finally we obtain the outputs of the output neurons. \n",
    "\n",
    "The weights were initialized randomly in the Perceptron class, the outputs will probably not match the true target value (e.g.for the logical operator \"a and b\" a=1,b=1 should evaluate to True). This is why we use the backpropagation method to calculate the error signals for all hidden and output units. To propagate the error signal from the output units back to the  hidden units in the first hidden layer, we use these two formulas:\n",
    "\n",
    "For the output units, this is a rather simple.\n",
    "$\\delta_i^{(l)}$ = $-(t_i - y_i)$ $\\sigma^{'}(d_i^{(N)})$\n",
    "\n",
    "For the Perceptron units in the layers before the output all the way until the input layer we use this formula to compute the error signals:\n",
    "\n",
    "$\\delta_i^{(l)} = (\\sum_{k = 1}^{m} \\delta_k^{(l+1)} w_{ki}^{(l+1)}) \\sigma^{'}(d_i^{(l)})$\n",
    "\n",
    "\n",
    "\n",
    "\n",
    "Having obtained the error signals, we can finally update the weights."
   ]
  },
  {
   "cell_type": "code",
   "execution_count": 290,
   "metadata": {},
   "outputs": [],
   "source": [
    "class MLP:\n",
    "    \"\"\"\n",
    "    input dimensions, hidden dimensions and output dimensions given as lists in distinct arguments\n",
    "    \"\"\"\n",
    "    def __init__(self, total_dim):\n",
    "        \n",
    "        input_dim = total_dim[0]\n",
    "        hidden_dim = total_dim[1:-1]\n",
    "        output_dim = total_dim[-1]\n",
    "        \n",
    "        # create a nested list of Perceptrons where each perceptron has the input_units set to \n",
    "        # the previous number of units (including input units at n=0)\n",
    "        self.hidden_layers = [\n",
    "                [Perceptron(input_units = total_dim[n]) for _ in range(layer_units)] \n",
    "                 for n, layer_units in enumerate(hidden_dim)\n",
    "        ]\n",
    "        \n",
    "        # initialize perceptrons for the output units (in case we have multiple outputs)\n",
    "        self.output_units = [Perceptron(input_units = hidden_dim[-1]) for _ in range(output_dim)]\n",
    "        \n",
    "        # initialize MLP output to 0 and initialize an empty list for individual layer's perceptron's activations\n",
    "        self.output = [0 for _ in range(output_dim)]\n",
    "        self.layer_activations = []\n",
    "        \n",
    "    \n",
    "    def forward_step(self, inputs):\n",
    "        \"\"\"\n",
    "        Perform a forward step given inputs\n",
    "        \"\"\"\n",
    "        # make sure inputs match the input_units for the first hidden layer perceptrons.\n",
    "        assert len(inputs) == len(self.hidden_layers[0][0].weights) - 1,'input dimension should match the initalisation'\n",
    "        \n",
    "        self.layer_activations = [inputs]\n",
    "        \n",
    "        # for each layer calculate the activation for all it's perceptrons. \n",
    "        # Then store these activations in a list and store this list in a list for all layer's activations.\n",
    "        for layer in self.hidden_layers:\n",
    "            activations = []\n",
    "            for unit in layer:\n",
    "                unit_activation = unit.forward_step(self.layer_activations[-1])\n",
    "                activations.append(unit_activation)\n",
    "            self.layer_activations.append(activations)\n",
    "        \n",
    "        # calculate output\n",
    "        self.output = [out_unit.forward_step(self.layer_activations[-1]) for out_unit in self.output_units]\n",
    "        \n",
    "    def backprop_step(self, targets):\n",
    "        \n",
    "        error_signals = []\n",
    "        # Start by calculating error signals for the output units.\n",
    "        \n",
    "        # For this we use the formula delta_i = -(target_i - output_i) * sigmoid_prime(drive of output unit_i)\n",
    "        # create a nested list for the deltas in each layer\n",
    "        error_signals = []\n",
    "        output_deltas = []\n",
    "        for i, (target, output) in enumerate(zip(targets,self.output)):\n",
    "            \n",
    "            # we want to reuse the activation values and not recompute the sigmoid\n",
    "            delta_i = -(target - output) * (sigmoid_prime(self.output_units[i].activation))\n",
    "            \n",
    "            #store delta in a variable of the perceptron unit\n",
    "            self.output_units[i].delta = delta_i\n",
    "            \n",
    "            # append error signal to output error signals list\n",
    "            output_deltas.append(delta_i)\n",
    "            \n",
    "            # perform weight update for output unit i using the error signal associated with this unit\n",
    "            self.output_units[i].update(delta_i)\n",
    "            \n",
    "        error_signals.append(output_deltas)\n",
    "        \n",
    "        # now compute the error signals for the hidden layers, \n",
    "        # to do this, we compute the sums for all units in a layer simultaneously and then multiply\n",
    "        # the corresponding sum_i for unit_i in layer l with the sigmoid derivative of unit_i's drive.\n",
    "        \n",
    "        for n, layer in enumerate(reversed(self.hidden_layers)):\n",
    "            # initialize a list of error signals for this layer\n",
    "            layer_deltas = []\n",
    "            sums_for_layer = np.zeros(len(layer))\n",
    "            \n",
    "            # since output units and hidden units are stored in independent variables, we have a\n",
    "            # slightly different procedure for n == 0.\n",
    "            \n",
    "            if n == 0:\n",
    "                for o_unit_k in self.output_units:\n",
    "                    sums_for_layer += o_unit_k.delta * np.array(o_unit_k.weights[1:])\n",
    "                \n",
    "                for i, sum_i in enumerate(sums_for_layer):\n",
    "                    # multiply the sum for unit i by the sigmoid derivative of it's drive to obtain it's delta\n",
    "                    delta = sum_i * sigmoid_prime(layer[i].activation)\n",
    "                    layer_deltas.append(delta)\n",
    "                    layer[i].delta = delta\n",
    "                error_signals.append(layer_deltas)\n",
    "                    \n",
    "            else:\n",
    "                for hidden_unit_k in reversed(self.hidden_layers)[n+1]:\n",
    "                    sums_for_layer += hidden_unit_k.delta * np.array(hidden_unit_k.weights[1:])\n",
    "                    \n",
    "                for i, sum_i in enumerate(sums_for_layer):\n",
    "                    delta = sum_i * sigmoid_prime(layer[i].activation)\n",
    "                    layer_deltas.append(delta)\n",
    "                    layer[i].delta = delta\n",
    "                \n",
    "                error_signals.append(layer_deltas)\n",
    "        \n",
    "        # once we have all the deltas computed without having updated weights in between \n",
    "        #(this would distort the process), we update the weights.\n",
    "        \n",
    "        # update unit using the delta we assigned to it\n",
    "        for unit in self.output_units:\n",
    "            unit.update(unit.delta)\n",
    "            \n",
    "        for layer in self.hidden_layers:\n",
    "            for unit in layer:\n",
    "                unit.update(unit.delta) \n",
    "        \n",
    "\n",
    "                    "
   ]
  },
  {
   "cell_type": "markdown",
   "metadata": {},
   "source": [
    "The following is a test for accuracy of this architecture/implementation trained on the 5 different logical connectors. We show that the network is able to learn all of the logical operators with 100% (4/4 correct) accuracy.\n",
    "\n",
    "We train using stochastic gradient descent (batch size = 1) with 1000 epochs over 4 training examples for each operator.\n",
    "\n",
    "The MLP has 2 input units, 4 hidden units in one layer and 1 output unit."
   ]
  },
  {
   "cell_type": "code",
   "execution_count": 293,
   "metadata": {},
   "outputs": [
    {
     "name": "stdout",
     "output_type": "stream",
     "text": [
      "final accuracy for and is: 1.0\n",
      "final accuracy for or is: 1.0\n",
      "final accuracy for nand is: 1.0\n",
      "final accuracy for xor is: 1.0\n",
      "final accuracy for nor is: 1.0\n"
     ]
    }
   ],
   "source": [
    "logs = {} # create dictionary to store results in\n",
    "\n",
    "# for each logical operator, compute for each epoch the avg losses and accuracies\n",
    "\n",
    "for name, logical_operator in [(\"and\", target_and), (\"or\", target_or), (\"nand\",target_nand), (\"xor\",target_xor), \n",
    "                               (\"nor\",target_nor)]:\n",
    "    \n",
    "    \n",
    "    accuracies = []\n",
    "    losses = []\n",
    "    avg_loss = np.array([])\n",
    "    avg_accuracies= np.array([])\n",
    "    \n",
    "    # instantiate a MLP with 2 inputs, 1 hidden layer with 4 units and 1 output unit\n",
    "    mlp = MLP([2,4,1])\n",
    "    \n",
    "    # train for 1000 epochs\n",
    "    epochs = 1000\n",
    "    \n",
    "    a = np.array([0,1,2,3]) # define possible indices for shuffling\n",
    "    \n",
    "    for epoch in range(epochs):\n",
    "        # shuffling x and targets in each epoch\n",
    "        random.shuffle(a)\n",
    "        x_shuffled = x[a]\n",
    "        y_shuffled= logical_operator[a]\n",
    "\n",
    "        #training on each observation(x and y pair)\n",
    "        for x_i,t_i in zip(x_shuffled,y_shuffled):\n",
    "            mlp.forward_step(x_i)\n",
    "            mlp.backprop_step([t_i])\n",
    "\n",
    "        # compute accuracy for the current epoch and append to accuracies list.\n",
    "        # also compute the total squared error for an epoch\n",
    "        accuracy = 0\n",
    "        loss = 0\n",
    "        for x_i,y_i in zip(x,logical_operator):\n",
    "            mlp.forward_step(x_i)\n",
    "            accuracy += accuracy_func(y_i, mlp.output[0])\n",
    "            \n",
    "            loss += (y_i - mlp.output[0])**2\n",
    "            \n",
    "        accuracy= accuracy/len(x)\n",
    "        accuracies.append(accuracy)\n",
    "        losses.append(loss)\n",
    "        # compute the average accuracy and loss for current epoch.\n",
    "        avg_accuracies = np.append(avg_accuracies, np.mean(accuracies))\n",
    "        avg_loss = np.append(avg_loss, np.mean(losses))\n",
    "    \n",
    "    logs[name] = {\"losses\": losses, \"accuracies\": accuracies, \"avg_loss\":avg_loss,\n",
    "                  \"avg_accuracies\": avg_accuracies}\n",
    "    print(\"final accuracy for\", name, \"is:\",accuracies[-1])\n",
    "    "
   ]
  },
  {
   "cell_type": "markdown",
   "metadata": {},
   "source": [
    "**Plot the results**"
   ]
  },
  {
   "cell_type": "code",
   "execution_count": 294,
   "metadata": {
    "scrolled": false
   },
   "outputs": [
    {
     "data": {
      "text/plain": [
       "<matplotlib.legend.Legend at 0x1a3799db7c8>"
      ]
     },
     "execution_count": 294,
     "metadata": {},
     "output_type": "execute_result"
    },
    {
     "data": {
      "image/png": "[encoded data removed]",
      "text/plain": [
       "<Figure size 720x432 with 1 Axes>"
      ]
     },
     "metadata": {
      "needs_background": "light"
     },
     "output_type": "display_data"
    }
   ],
   "source": [
    "what_to_plot = \"xor\" # change this to view results for other logical operators\n",
    "\n",
    "fig, ax = plt.subplots(ncols=1, figsize=(10,6))\n",
    "\n",
    "ax.plot(logs[what_to_plot][\"avg_accuracies\"])\n",
    "ax.set(title='Epoch average accuracy and loss ', xlabel = 'epoch')\n",
    "ax.plot(logs[what_to_plot][\"avg_loss\"])\n",
    "ax.legend([\"average accuracies\",\"average loss\"])"
   ]
  }
 ],
 "metadata": {
  "kernelspec": {
   "display_name": "Python 3",
   "language": "python",
   "name": "python3"
  },
  "language_info": {
   "codemirror_mode": {
    "name": "ipython",
    "version": 3
   },
   "file_extension": ".py",
   "mimetype": "text/x-python",
   "name": "python",
   "nbconvert_exporter": "python",
   "pygments_lexer": "ipython3",
   "version": "3.7.6"
  }
 },
 "nbformat": 4,
 "nbformat_minor": 4
}
