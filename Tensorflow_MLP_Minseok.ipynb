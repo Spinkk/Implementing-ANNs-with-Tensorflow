{
  "nbformat": 4,
  "nbformat_minor": 0,
  "metadata": {
    "colab": {
      "name": "Tensorflow Task 1.ipynb",
      "provenance": [],
      "collapsed_sections": [],
      "include_colab_link": true
    },
    "kernelspec": {
      "name": "python3",
      "display_name": "Python 3"
    }
  },
  "cells": [
    {
      "cell_type": "markdown",
      "metadata": {
        "id": "view-in-github",
        "colab_type": "text"
      },
      "source": [
        "<a href=\"https://colab.research.google.com/github/Spinkk/Implementing-ANNs-with-Tensorflow/blob/main/Tensorflow_MLP_Minseok.ipynb\" target=\"_parent\"><img src=\"https://colab.research.google.com/assets/colab-badge.svg\" alt=\"Open In Colab\"/></a>"
      ]
    },
    {
      "cell_type": "code",
      "metadata": {
        "id": "qb0fI0fFtJqY"
      },
      "source": [
        "import numpy as np\n",
        "import matplotlib.pyplot as plt"
      ],
      "execution_count": 12,
      "outputs": []
    },
    {
      "cell_type": "markdown",
      "metadata": {
        "id": "VMFpgRMllSTq"
      },
      "source": [
        "# 1. Preparation"
      ]
    },
    {
      "cell_type": "code",
      "metadata": {
        "id": "EdEgokIrlXj9"
      },
      "source": [
        "def sigmoid(x):\n",
        "  return 1 / (1 + np.exp(-1*x))\n",
        "\n",
        "\n",
        "def sigmoid_prime(x):\n",
        "  return sigmoid(x) * (1 - sigmoid(x))  # derivative can be defined by using the function itself\n",
        "\n",
        "\n",
        "def error_func(t, y_hat):\n",
        "  return (t - y_hat)**2\n",
        "\n",
        "\n",
        "def error_func_prime(t,y_hat):\n",
        "  return -(t - y_hat)\n",
        "\n",
        "\n",
        "def accuracy_func(t, y_hat):\n",
        "  if ((t==1) and (y_hat>=0.5)) or ((t==0) and (y_hat<0.5)):\n",
        "    return True\n",
        "  else:\n",
        "    return False"
      ],
      "execution_count": 13,
      "outputs": []
    },
    {
      "cell_type": "markdown",
      "metadata": {
        "id": "AzF2Mhatl_0W"
      },
      "source": [
        "# 2. Data set\n",
        "Since our logical gates take only true or false, we can encode them with 1 and 0. The truth table of XOR gate looks as follows; "
      ]
    },
    {
      "cell_type": "code",
      "metadata": {
        "id": "lifH6OxYnOkf"
      },
      "source": [
        "# input at column 0,1 and output at 2\n",
        "data_xor = np.array([[1,1,0],\n",
        "              [1,0,1],\n",
        "              [0,1,1],\n",
        "              [0,0,0]])\n",
        "\n",
        "# to check if perceptron works\n",
        "data_or = np.array([[1,1,1],\n",
        "                     [1,0,1],\n",
        "                     [0,1,1],\n",
        "                     [0,0,0]])"
      ],
      "execution_count": 26,
      "outputs": []
    },
    {
      "cell_type": "code",
      "metadata": {
        "id": "6vkY9QyhaYhd"
      },
      "source": [
        "# code by Mathis for different logical operators\n",
        "target_and = np.array([0,0,0,1])\n",
        "target_or = np.array([0,1,1,1])\n",
        "target_nand = np.array([1,1,1,0])\n",
        "target_xor = np.array([0,1,1,0])\n",
        "target_nor = np.array([1,0,0,0])"
      ],
      "execution_count": 15,
      "outputs": []
    },
    {
      "cell_type": "markdown",
      "metadata": {
        "id": "lDfqbdHqns-g"
      },
      "source": [
        "# 3. Perceptron\n",
        "\n",
        "Do I need step activation function and Perceptron learning rule? In exercise sheet it's sigmoid based and in flipped room it's step func\n"
      ]
    },
    {
      "cell_type": "code",
      "metadata": {
        "id": "74UOXQT9_671"
      },
      "source": [
        "class Perceptron:\n",
        "  def __init__(self, input_units, learning_rate = 0.01):\n",
        "    self.weights = np.random.randn(input_units + 1)  # random weight init incl. bias\n",
        "    self.alpha = learning_rate\n",
        "\n",
        "  def forward_step(self, inputs):\n",
        "    self.inputs = np.insert(inputs, 0, 1)  # add bias dummy variable\n",
        "    self.drive = np.dot(self.weights, self.inputs)  # inner product\n",
        "    self.activation = sigmoid(self.drive)\n",
        "        \n",
        "  def update(self, delta):\n",
        "    gradients = delta * self.inputs  # activation at one layer beforehand is input \n",
        "    self.weights = self.weights - self.alpha * gradients  # GD"
      ],
      "execution_count": 36,
      "outputs": []
    },
    {
      "cell_type": "markdown",
      "metadata": {
        "id": "6nZkspaT156z"
      },
      "source": [
        "Train OR"
      ]
    },
    {
      "cell_type": "code",
      "metadata": {
        "id": "8MuggahZ1xV8"
      },
      "source": [
        "accuracies = []\n",
        "p1 = Perceptron(2)\n",
        "\n",
        "for _ in range(10000):\n",
        "  index = np.random.choice([0,1,2,3])\n",
        "  input = data_or[index, :-1] \n",
        "  label = data_or[index, -1]\n",
        "\n",
        "  p1.forward_step(input)\n",
        "  delta = error_func_prime(label, p1.activation) * sigmoid_prime(p1.drive)\n",
        "  p1.update(delta)\n",
        "  \n",
        "  accuracies.append( # just append result of training examples without test\n",
        "      accuracy_func(label, p1.activation))  "
      ],
      "execution_count": 61,
      "outputs": []
    },
    {
      "cell_type": "code",
      "metadata": {
        "id": "znKDjx632wFX",
        "outputId": "372b4fdb-d55d-4374-ba44-aceea79c32e0",
        "colab": {
          "base_uri": "https://localhost:8080/",
          "height": 282
        }
      },
      "source": [
        "plt.plot(accuracies)"
      ],
      "execution_count": 63,
      "outputs": [
        {
          "output_type": "execute_result",
          "data": {
            "text/plain": [
              "[<matplotlib.lines.Line2D at 0x7f3225640d68>]"
            ]
          },
          "metadata": {
            "tags": []
          },
          "execution_count": 63
        },
        {
          "output_type": "display_data",
          "data": {
            "image/png": "[encoded data removed]",
            "text/plain": [
              "<Figure size 432x288 with 1 Axes>"
            ]
          },
          "metadata": {
            "tags": [],
            "needs_background": "light"
          }
        }
      ]
    },
    {
      "cell_type": "markdown",
      "metadata": {
        "id": "8PkcHC1rCzIW"
      },
      "source": [
        "# 4. Multi-layer perceptron"
      ]
    },
    {
      "cell_type": "code",
      "metadata": {
        "id": "xW6Wu9AAC99p"
      },
      "source": [
        "class MLP:\n",
        "  def __init__(self, input_dim, hidden_dim = [4,1]):\n",
        "    total_dim = np.insert(hidden_dim, 0, input_dim)\n",
        "    self.units = []  # nested list with each element as list of perceptrons at each layer\n",
        "    for n,layer_dim in enumerate(total_dim[:-1]):  # don't enumerate the output layer\n",
        "      layer = []\n",
        "      for _ in range(total_dim[n+1]):  # num. of perceptron at layer n+1\n",
        "        unit = Perceptron(layer_dim)  # num. of input for each perceptron coming from layer n\n",
        "        layer.append(unit)\n",
        "      self.units.append(layer)\n",
        "    self.output = None\n",
        "\n",
        "  def forward_step(self, inputs):\n",
        "    assert len(inputs) == len(self.units[0][0].weights) - 1, 'input dimension should match the initalisation'\n",
        "    activ = [inputs]  # TODO: no need to keep track of activation of all layers\n",
        "    for layer in self.units:\n",
        "      activ_layer = []\n",
        "      for unit in layer:  # inefficient but no other way if we want to use class Perceptron()\n",
        "        unit.forward_step(activ[-1])\n",
        "        activ_layer.append(unit.activation) # drive for the next layer\n",
        "      activ.append(activ_layer)\n",
        "    self.output = activ_layer\n",
        "\n",
        "  def backprop_step(self, label):\n",
        "    error_signal = []  # 4+1 deltas in default cases\n",
        "    # if readout layer\n",
        "    layer_errors = []\n",
        "    for i,unit in enumerate(self.units[-1]):\n",
        "      delta = error_func_prime(label[i], unit.activation) * sigmoid_prime(unit.drive)\n",
        "      layer_errors.append(delta) # keep for recursively computing deltas\n",
        "      unit.update(delta) # update weight with computed delta\n",
        "    error_signal.append(layer_errors)  # saved in reverse order (readout as first element)\n",
        "\n",
        "    # else\n",
        "    for l,layer in reversed(list(enumerate(self.units[:-1]))): # l also in descending orders\n",
        "      layer_errors = []\n",
        "      for i,unit in enumerate(layer):\n",
        "        sums = 0\n",
        "        for k,unit_higher in enumerate(self.units[l+1]): # deltas from l+1 layer\n",
        "          sums += error_signal[-1][k] * unit_higher.weights[i+1]  # +1 due to bias\n",
        "        delta = sums * sigmoid_prime(unit.drive)\n",
        "        layer_errors.append(delta)\n",
        "        unit.update(delta)\n",
        "      error_signal.append(layer_errors)"
      ],
      "execution_count": 102,
      "outputs": []
    },
    {
      "cell_type": "markdown",
      "metadata": {
        "id": "BlLEODDFpoOd"
      },
      "source": [
        "# 5. Training\n",
        "Interstingly, random training doesn't work for XOR.\n",
        "For OR in perceptron, it worked. Reverbrating is important?\n"
      ]
    },
    {
      "cell_type": "code",
      "metadata": {
        "id": "4cKgosRjpp5F"
      },
      "source": [
        "losses = []\n",
        "accuracies = []\n",
        "mlp_XOR = MLP(2)  # XOR is computed using two inputs\n",
        "\n",
        "for _ in range(1000):\n",
        "  # data_point_index = np.random.choice([0,1,2,3])  # 4 possible combinations to choose\n",
        "  for data_point_index in range(4):\n",
        "    input = data_xor[data_point_index,:-1]\n",
        "    label = data_xor[data_point_index,-1]\n",
        "  mlp_XOR.forward_step(input)\n",
        "  mlp_XOR.backprop_step([label]) # in list even if only one output in this case\n",
        "  losses.append(error_func(label, mlp_XOR.output))\n",
        "  accuracies.append(accuracy_func(label, mlp_XOR.output[0]))"
      ],
      "execution_count": 106,
      "outputs": []
    },
    {
      "cell_type": "code",
      "metadata": {
        "id": "tI8HVyEuterH",
        "outputId": "383c03c2-6edd-4b48-8f48-ec3b6b2af818",
        "colab": {
          "base_uri": "https://localhost:8080/",
          "height": 352
        }
      },
      "source": [
        "plt.plot(accuracies)\n",
        "for layer in mlp_XOR.units:\n",
        "  for unit in layer:\n",
        "    print(unit.weights)"
      ],
      "execution_count": 108,
      "outputs": [
        {
          "output_type": "stream",
          "text": [
            "[-0.30159792 -0.99277934 -1.13357672]\n",
            "[ 1.20444791 -0.82425821 -0.46063909]\n",
            "[-2.05837524  0.22717797 -1.82734961]\n",
            "[ 0.69943894 -0.98480759 -0.94606869]\n",
            "[-0.27703834  0.01702101 -1.80648867  0.47398115  0.94748359]\n"
          ],
          "name": "stdout"
        },
        {
          "output_type": "display_data",
          "data": {
            "image/png": "[encoded data removed]",
            "text/plain": [
              "<Figure size 432x288 with 1 Axes>"
            ]
          },
          "metadata": {
            "tags": [],
            "needs_background": "light"
          }
        }
      ]
    }
  ]
}