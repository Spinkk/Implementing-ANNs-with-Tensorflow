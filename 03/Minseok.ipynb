{
 "cells": [
  {
   "cell_type": "code",
   "execution_count": 1,
   "metadata": {},
   "outputs": [],
   "source": [
    "import numpy as np\n",
    "import matplotlib.pyplot as plt\n",
    "import tensorflow as tf\n",
    "import tensorflow_datasets as tfds"
   ]
  },
  {
   "cell_type": "markdown",
   "metadata": {},
   "source": [
    "# 1. Data set"
   ]
  },
  {
   "cell_type": "code",
   "execution_count": 2,
   "metadata": {},
   "outputs": [],
   "source": [
    "def onehotify(input, label):\n",
    "    vocab = {'A':'1', 'C': '2', 'G':'3', 'T':'0'}\n",
    "    for key in vocab.keys():\n",
    "        input = tf.strings.regex_replace(input, key, vocab[key])\n",
    "    split = tf.strings.bytes_split(input)\n",
    "    labels = tf.cast(tf.strings.to_number(split), tf.uint8)\n",
    "    onehot = tf.one_hot(labels, 4)\n",
    "    onehot = tf.reshape(onehot, (-1,))\n",
    "    # slight modification to the given function to separately encode input and label data\n",
    "    return onehot, tf.one_hot(label, 10)\n"
   ]
  },
  {
   "cell_type": "code",
   "execution_count": 78,
   "metadata": {
    "scrolled": true
   },
   "outputs": [],
   "source": [
    "# load data\n",
    "# 100,000 training/ 1000 test\n",
    "train_dataset = tfds.load('genomics_ood', split='train[:10%]', as_supervised=True, shuffle_files=True) \n",
    "test_dataset = tfds.load('genomics_ood', split='test[:1%]', as_supervised=True, shuffle_files=True) \n",
    "# data = data.prefetch(1000)\n",
    "\n",
    "# one-hot encoding\n",
    "train_dataset = train_dataset.map(onehotify)\n",
    "test_dataset = test_dataset.map(onehotify)\n",
    "\n",
    "# batching\n",
    "train_dataset = train_dataset.batch(5000)  # whole training data covered in 10 epochs\n",
    "test_dataset = test_dataset.batch(1)  # test each data point\n",
    "\n",
    "\n",
    "#  \n",
    "# train_data = data.take(100000)\n",
    "# test_data = data.skip(100000)\n",
    "\n",
    "# .shuffle(100000).batch(100).prefetch(2) # in total 1000 update steps\n",
    "# .shuffle(1000).prefetch(100)"
   ]
  },
  {
   "cell_type": "markdown",
   "metadata": {},
   "source": [
    "# 2. Model"
   ]
  },
  {
   "cell_type": "code",
   "execution_count": 77,
   "metadata": {},
   "outputs": [],
   "source": [
    "model = tf.keras.models.Sequential()\n",
    "model.add(tf.keras.Input(shape=(1000,)))  # one-hot encoded gene seq have len 1000\n",
    "model.add(tf.keras.layers.Dense(256, activation='sigmoid'))\n",
    "model.add(tf.keras.layers.Dense(256, activation='sigmoid'))\n",
    "model.add(tf.keras.layers.Dense(10, activation='softmax'))\n",
    "\n",
    "\n",
    "# from tensorflow.keras import Model\n",
    "\n",
    "# class Model(Model): \n",
    "    \n",
    "#     def __init__(self):\n",
    "#         super(Model, self).__init__()\n",
    "#         # Define the three layers.\n",
    "#         self.hidden_layer_1 = tf.keras.layers.Dense(256, activation='sigmoid')\n",
    "#         self.hidden_layer_2 = tf.keras.layers.Dense(256, activation='sigmoid')\n",
    "#         self.output_layer = tf.keras.layers.Dense(10, activation='softmax')\n",
    "        \n",
    "#     def call(self, x):\n",
    "#         # Define the forward step.\n",
    "#         x = self.hidden_layer_1(x)\n",
    "#         x = self.hidden_layer_2(x)\n",
    "#         x = self.output_layer(x)\n",
    "#         return x"
   ]
  },
  {
   "cell_type": "markdown",
   "metadata": {},
   "source": [
    "# 3. Training"
   ]
  },
  {
   "cell_type": "code",
   "execution_count": 69,
   "metadata": {},
   "outputs": [],
   "source": [
    "def train_step(model, input, target, loss_function, optimizer):\n",
    "    with tf.GradientTape() as tape:\n",
    "        prediction = model(input)  # for each sample in batch, probability of assigning to each class\n",
    "        loss = loss_function(target, prediction)\n",
    "        gradients = tape.gradient(loss, model.trainable_variables)\n",
    "    optimizer.apply_gradients(zip(gradients, model.trainable_variables))\n",
    "    return loss \n",
    "\n",
    "\n",
    "def test(model, test_data, loss_function):\n",
    "    test_accuracy_aggregator = []\n",
    "    test_loss_aggregator = []\n",
    "\n",
    "    for (input, target) in test_data:\n",
    "        prediction = model(input)\n",
    "        sample_test_loss = loss_function(target, prediction)\n",
    "        # simple winner-take-all binary accuracy for each sample\n",
    "        sample_test_accuracy =  np.argmax(target, axis=1) == np.argmax(prediction, axis=1)\n",
    "        test_loss_aggregator.append(sample_test_loss.numpy())\n",
    "        test_accuracy_aggregator.append(np.mean(sample_test_accuracy))\n",
    "\n",
    "    test_loss = np.mean(test_loss_aggregator)\n",
    "    test_accuracy = np.mean(test_accuracy_aggregator)\n",
    "\n",
    "    return test_loss, test_accuracy\n"
   ]
  },
  {
   "cell_type": "code",
   "execution_count": 79,
   "metadata": {},
   "outputs": [
    {
     "name": "stdout",
     "output_type": "stream",
     "text": [
      "Epoch: __ 0\n",
      "Epoch: __ 1\n",
      "Epoch: __ 2\n",
      "Epoch: __ 3\n",
      "Epoch: __ 4\n",
      "Epoch: __ 5\n",
      "Epoch: __ 6\n",
      "Epoch: __ 7\n",
      "Epoch: __ 8\n",
      "Epoch: __ 9\n",
      "Epoch: __ 10\n",
      "Epoch: __ 11\n",
      "Epoch: __ 12\n",
      "Epoch: __ 13\n",
      "Epoch: __ 14\n",
      "Epoch: __ 15\n",
      "Epoch: __ 16\n",
      "Epoch: __ 17\n",
      "Epoch: __ 18\n",
      "Epoch: __ 19\n"
     ]
    }
   ],
   "source": [
    "tf.keras.backend.clear_session()\n",
    "\n",
    "### Hyperparameters\n",
    "num_epochs = 20\n",
    "learning_rate = 0.1\n",
    "running_average_factor = 0.95\n",
    "\n",
    "# design of network (model is prev. defined)\n",
    "# model = Model()\n",
    "loss_f = tf.keras.losses.CategoricalCrossentropy()\n",
    "optimizer = tf.keras.optimizers.SGD(learning_rate)\n",
    "\n",
    "# Initialize lists for later visualization.\n",
    "train_losses = []\n",
    "test_losses = []\n",
    "test_accuracies = []\n",
    "\n",
    "#testing once before we begin\n",
    "test_loss, test_accuracy = test(model, test_dataset, loss_f)\n",
    "test_losses.append(test_loss)\n",
    "test_accuracies.append(test_accuracy)\n",
    "\n",
    "#check how model performs on train data once before we begin\n",
    "train_loss, _ = test(model, train_dataset, loss_f)\n",
    "train_losses.append(train_loss)\n",
    "\n",
    "# We train for num_epochs epochs.\n",
    "for epoch in range(num_epochs):\n",
    "    print('Epoch: __ ' + str(epoch))\n",
    "\n",
    "    # training (and checking in with training)\n",
    "    running_average = 0\n",
    "    for (input,target) in train_dataset:\n",
    "        train_loss = train_step(model, input, target, loss_f, optimizer)\n",
    "        running_average = running_average_factor * running_average  + (1 - running_average_factor) * train_loss\n",
    "    train_losses.append(running_average)\n",
    "\n",
    "    #testing\n",
    "    test_loss, test_accuracy = test(model, test_dataset, loss_f)\n",
    "    test_losses.append(test_loss)\n",
    "    test_accuracies.append(test_accuracy)"
   ]
  },
  {
   "cell_type": "code",
   "execution_count": 80,
   "metadata": {},
   "outputs": [
    {
     "data": {
      "text/plain": [
       "[0.1,\n",
       " 0.124,\n",
       " 0.153,\n",
       " 0.178,\n",
       " 0.189,\n",
       " 0.197,\n",
       " 0.194,\n",
       " 0.198,\n",
       " 0.198,\n",
       " 0.199,\n",
       " 0.211,\n",
       " 0.229,\n",
       " 0.255,\n",
       " 0.271,\n",
       " 0.287,\n",
       " 0.295,\n",
       " 0.309,\n",
       " 0.313,\n",
       " 0.314,\n",
       " 0.321,\n",
       " 0.324]"
      ]
     },
     "execution_count": 80,
     "metadata": {},
     "output_type": "execute_result"
    }
   ],
   "source": [
    "test_accuracies"
   ]
  }
 ],
 "metadata": {
  "kernelspec": {
   "display_name": "ml",
   "language": "python",
   "name": "ml"
  },
  "language_info": {
   "codemirror_mode": {
    "name": "ipython",
    "version": 3
   },
   "file_extension": ".py",
   "mimetype": "text/x-python",
   "name": "python",
   "nbconvert_exporter": "python",
   "pygments_lexer": "ipython3",
   "version": "3.8.3"
  }
 },
 "nbformat": 4,
 "nbformat_minor": 4
}
