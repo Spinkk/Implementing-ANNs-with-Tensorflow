{
  "nbformat": 4,
  "nbformat_minor": 0,
  "metadata": {
    "accelerator": "GPU",
    "colab": {
      "name": "w08.ipynb",
      "provenance": [],
      "collapsed_sections": [
        "Pw7fGHNsuqrt",
        "k52Ayp3QvWpN",
        "LbinP1_8kTOp"
      ],
      "include_colab_link": true
    },
    "kernelspec": {
      "display_name": "Python 3",
      "name": "python3"
    },
    "widgets": {
      "application/vnd.jupyter.widget-state+json": {
        "386bbe6fa44c4ed5bec13c62896f71d2": {
          "model_module": "@jupyter-widgets/controls",
          "model_name": "HBoxModel",
          "state": {
            "_view_name": "HBoxView",
            "_dom_classes": [],
            "_model_name": "HBoxModel",
            "_view_module": "@jupyter-widgets/controls",
            "_model_module_version": "1.5.0",
            "_view_count": null,
            "_view_module_version": "1.5.0",
            "box_style": "",
            "layout": "IPY_MODEL_8bbc9443bb91425bb4b6dca27126876e",
            "_model_module": "@jupyter-widgets/controls",
            "children": [
              "IPY_MODEL_018bd69a4b37441fb8dfb32db1fabe09",
              "IPY_MODEL_e58e195cf8b14997a32525e04919cefa"
            ]
          }
        },
        "8bbc9443bb91425bb4b6dca27126876e": {
          "model_module": "@jupyter-widgets/base",
          "model_name": "LayoutModel",
          "state": {
            "_view_name": "LayoutView",
            "grid_template_rows": null,
            "right": null,
            "justify_content": null,
            "_view_module": "@jupyter-widgets/base",
            "overflow": null,
            "_model_module_version": "1.2.0",
            "_view_count": null,
            "flex_flow": null,
            "width": null,
            "min_width": null,
            "border": null,
            "align_items": null,
            "bottom": null,
            "_model_module": "@jupyter-widgets/base",
            "top": null,
            "grid_column": null,
            "overflow_y": null,
            "overflow_x": null,
            "grid_auto_flow": null,
            "grid_area": null,
            "grid_template_columns": null,
            "flex": null,
            "_model_name": "LayoutModel",
            "justify_items": null,
            "grid_row": null,
            "max_height": null,
            "align_content": null,
            "visibility": null,
            "align_self": null,
            "height": null,
            "min_height": null,
            "padding": null,
            "grid_auto_rows": null,
            "grid_gap": null,
            "max_width": null,
            "order": null,
            "_view_module_version": "1.2.0",
            "grid_template_areas": null,
            "object_position": null,
            "object_fit": null,
            "grid_auto_columns": null,
            "margin": null,
            "display": null,
            "left": null
          }
        },
        "018bd69a4b37441fb8dfb32db1fabe09": {
          "model_module": "@jupyter-widgets/controls",
          "model_name": "FloatProgressModel",
          "state": {
            "_view_name": "ProgressView",
            "style": "IPY_MODEL_0a6e207ff15d43b0a785a157619c9aba",
            "_dom_classes": [],
            "description": "Dl Completed...: 100%",
            "_model_name": "FloatProgressModel",
            "bar_style": "success",
            "max": 1,
            "_view_module": "@jupyter-widgets/controls",
            "_model_module_version": "1.5.0",
            "value": 1,
            "_view_count": null,
            "_view_module_version": "1.5.0",
            "orientation": "horizontal",
            "min": 0,
            "description_tooltip": null,
            "_model_module": "@jupyter-widgets/controls",
            "layout": "IPY_MODEL_b70870e528484da09f5031bb5eb3ff5b"
          }
        },
        "e58e195cf8b14997a32525e04919cefa": {
          "model_module": "@jupyter-widgets/controls",
          "model_name": "HTMLModel",
          "state": {
            "_view_name": "HTMLView",
            "style": "IPY_MODEL_4cd0fc334df3427598c623b3917a2f9e",
            "_dom_classes": [],
            "description": "",
            "_model_name": "HTMLModel",
            "placeholder": "​",
            "_view_module": "@jupyter-widgets/controls",
            "_model_module_version": "1.5.0",
            "value": " 4/4 [00:02&lt;00:00,  1.75 url/s]",
            "_view_count": null,
            "_view_module_version": "1.5.0",
            "description_tooltip": null,
            "_model_module": "@jupyter-widgets/controls",
            "layout": "IPY_MODEL_a4e72117cce24a28bde4d85798fc61cd"
          }
        },
        "0a6e207ff15d43b0a785a157619c9aba": {
          "model_module": "@jupyter-widgets/controls",
          "model_name": "ProgressStyleModel",
          "state": {
            "_view_name": "StyleView",
            "_model_name": "ProgressStyleModel",
            "description_width": "initial",
            "_view_module": "@jupyter-widgets/base",
            "_model_module_version": "1.5.0",
            "_view_count": null,
            "_view_module_version": "1.2.0",
            "bar_color": null,
            "_model_module": "@jupyter-widgets/controls"
          }
        },
        "b70870e528484da09f5031bb5eb3ff5b": {
          "model_module": "@jupyter-widgets/base",
          "model_name": "LayoutModel",
          "state": {
            "_view_name": "LayoutView",
            "grid_template_rows": null,
            "right": null,
            "justify_content": null,
            "_view_module": "@jupyter-widgets/base",
            "overflow": null,
            "_model_module_version": "1.2.0",
            "_view_count": null,
            "flex_flow": null,
            "width": null,
            "min_width": null,
            "border": null,
            "align_items": null,
            "bottom": null,
            "_model_module": "@jupyter-widgets/base",
            "top": null,
            "grid_column": null,
            "overflow_y": null,
            "overflow_x": null,
            "grid_auto_flow": null,
            "grid_area": null,
            "grid_template_columns": null,
            "flex": null,
            "_model_name": "LayoutModel",
            "justify_items": null,
            "grid_row": null,
            "max_height": null,
            "align_content": null,
            "visibility": null,
            "align_self": null,
            "height": null,
            "min_height": null,
            "padding": null,
            "grid_auto_rows": null,
            "grid_gap": null,
            "max_width": null,
            "order": null,
            "_view_module_version": "1.2.0",
            "grid_template_areas": null,
            "object_position": null,
            "object_fit": null,
            "grid_auto_columns": null,
            "margin": null,
            "display": null,
            "left": null
          }
        },
        "4cd0fc334df3427598c623b3917a2f9e": {
          "model_module": "@jupyter-widgets/controls",
          "model_name": "DescriptionStyleModel",
          "state": {
            "_view_name": "StyleView",
            "_model_name": "DescriptionStyleModel",
            "description_width": "",
            "_view_module": "@jupyter-widgets/base",
            "_model_module_version": "1.5.0",
            "_view_count": null,
            "_view_module_version": "1.2.0",
            "_model_module": "@jupyter-widgets/controls"
          }
        },
        "a4e72117cce24a28bde4d85798fc61cd": {
          "model_module": "@jupyter-widgets/base",
          "model_name": "LayoutModel",
          "state": {
            "_view_name": "LayoutView",
            "grid_template_rows": null,
            "right": null,
            "justify_content": null,
            "_view_module": "@jupyter-widgets/base",
            "overflow": null,
            "_model_module_version": "1.2.0",
            "_view_count": null,
            "flex_flow": null,
            "width": null,
            "min_width": null,
            "border": null,
            "align_items": null,
            "bottom": null,
            "_model_module": "@jupyter-widgets/base",
            "top": null,
            "grid_column": null,
            "overflow_y": null,
            "overflow_x": null,
            "grid_auto_flow": null,
            "grid_area": null,
            "grid_template_columns": null,
            "flex": null,
            "_model_name": "LayoutModel",
            "justify_items": null,
            "grid_row": null,
            "max_height": null,
            "align_content": null,
            "visibility": null,
            "align_self": null,
            "height": null,
            "min_height": null,
            "padding": null,
            "grid_auto_rows": null,
            "grid_gap": null,
            "max_width": null,
            "order": null,
            "_view_module_version": "1.2.0",
            "grid_template_areas": null,
            "object_position": null,
            "object_fit": null,
            "grid_auto_columns": null,
            "margin": null,
            "display": null,
            "left": null
          }
        },
        "04bb2d4867ab48919766950ed0f42f27": {
          "model_module": "@jupyter-widgets/controls",
          "model_name": "HBoxModel",
          "state": {
            "_view_name": "HBoxView",
            "_dom_classes": [],
            "_model_name": "HBoxModel",
            "_view_module": "@jupyter-widgets/controls",
            "_model_module_version": "1.5.0",
            "_view_count": null,
            "_view_module_version": "1.5.0",
            "box_style": "",
            "layout": "IPY_MODEL_49f6223411fe4d7682b80ca43f6766e8",
            "_model_module": "@jupyter-widgets/controls",
            "children": [
              "IPY_MODEL_576511decc0d454384e178c2dee1c0f1",
              "IPY_MODEL_ad742b7954bf40c9b3ca6576abec7485"
            ]
          }
        },
        "49f6223411fe4d7682b80ca43f6766e8": {
          "model_module": "@jupyter-widgets/base",
          "model_name": "LayoutModel",
          "state": {
            "_view_name": "LayoutView",
            "grid_template_rows": null,
            "right": null,
            "justify_content": null,
            "_view_module": "@jupyter-widgets/base",
            "overflow": null,
            "_model_module_version": "1.2.0",
            "_view_count": null,
            "flex_flow": null,
            "width": null,
            "min_width": null,
            "border": null,
            "align_items": null,
            "bottom": null,
            "_model_module": "@jupyter-widgets/base",
            "top": null,
            "grid_column": null,
            "overflow_y": null,
            "overflow_x": null,
            "grid_auto_flow": null,
            "grid_area": null,
            "grid_template_columns": null,
            "flex": null,
            "_model_name": "LayoutModel",
            "justify_items": null,
            "grid_row": null,
            "max_height": null,
            "align_content": null,
            "visibility": null,
            "align_self": null,
            "height": null,
            "min_height": null,
            "padding": null,
            "grid_auto_rows": null,
            "grid_gap": null,
            "max_width": null,
            "order": null,
            "_view_module_version": "1.2.0",
            "grid_template_areas": null,
            "object_position": null,
            "object_fit": null,
            "grid_auto_columns": null,
            "margin": null,
            "display": null,
            "left": null
          }
        },
        "576511decc0d454384e178c2dee1c0f1": {
          "model_module": "@jupyter-widgets/controls",
          "model_name": "FloatProgressModel",
          "state": {
            "_view_name": "ProgressView",
            "style": "IPY_MODEL_87a80f3717d64ddbb46f7da640f21d6c",
            "_dom_classes": [],
            "description": "Dl Size...: 100%",
            "_model_name": "FloatProgressModel",
            "bar_style": "success",
            "max": 1,
            "_view_module": "@jupyter-widgets/controls",
            "_model_module_version": "1.5.0",
            "value": 1,
            "_view_count": null,
            "_view_module_version": "1.5.0",
            "orientation": "horizontal",
            "min": 0,
            "description_tooltip": null,
            "_model_module": "@jupyter-widgets/controls",
            "layout": "IPY_MODEL_67ed193b53a54679b15f31e5b60f7d86"
          }
        },
        "ad742b7954bf40c9b3ca6576abec7485": {
          "model_module": "@jupyter-widgets/controls",
          "model_name": "HTMLModel",
          "state": {
            "_view_name": "HTMLView",
            "style": "IPY_MODEL_5ea6137de21f4690963015c5968dc1a6",
            "_dom_classes": [],
            "description": "",
            "_model_name": "HTMLModel",
            "placeholder": "​",
            "_view_module": "@jupyter-widgets/controls",
            "_model_module_version": "1.5.0",
            "value": " 29/29 [00:02&lt;00:00, 12.84 MiB/s]",
            "_view_count": null,
            "_view_module_version": "1.5.0",
            "description_tooltip": null,
            "_model_module": "@jupyter-widgets/controls",
            "layout": "IPY_MODEL_8f0330488c5e4effb52a4655d3f13685"
          }
        },
        "87a80f3717d64ddbb46f7da640f21d6c": {
          "model_module": "@jupyter-widgets/controls",
          "model_name": "ProgressStyleModel",
          "state": {
            "_view_name": "StyleView",
            "_model_name": "ProgressStyleModel",
            "description_width": "initial",
            "_view_module": "@jupyter-widgets/base",
            "_model_module_version": "1.5.0",
            "_view_count": null,
            "_view_module_version": "1.2.0",
            "bar_color": null,
            "_model_module": "@jupyter-widgets/controls"
          }
        },
        "67ed193b53a54679b15f31e5b60f7d86": {
          "model_module": "@jupyter-widgets/base",
          "model_name": "LayoutModel",
          "state": {
            "_view_name": "LayoutView",
            "grid_template_rows": null,
            "right": null,
            "justify_content": null,
            "_view_module": "@jupyter-widgets/base",
            "overflow": null,
            "_model_module_version": "1.2.0",
            "_view_count": null,
            "flex_flow": null,
            "width": null,
            "min_width": null,
            "border": null,
            "align_items": null,
            "bottom": null,
            "_model_module": "@jupyter-widgets/base",
            "top": null,
            "grid_column": null,
            "overflow_y": null,
            "overflow_x": null,
            "grid_auto_flow": null,
            "grid_area": null,
            "grid_template_columns": null,
            "flex": null,
            "_model_name": "LayoutModel",
            "justify_items": null,
            "grid_row": null,
            "max_height": null,
            "align_content": null,
            "visibility": null,
            "align_self": null,
            "height": null,
            "min_height": null,
            "padding": null,
            "grid_auto_rows": null,
            "grid_gap": null,
            "max_width": null,
            "order": null,
            "_view_module_version": "1.2.0",
            "grid_template_areas": null,
            "object_position": null,
            "object_fit": null,
            "grid_auto_columns": null,
            "margin": null,
            "display": null,
            "left": null
          }
        },
        "5ea6137de21f4690963015c5968dc1a6": {
          "model_module": "@jupyter-widgets/controls",
          "model_name": "DescriptionStyleModel",
          "state": {
            "_view_name": "StyleView",
            "_model_name": "DescriptionStyleModel",
            "description_width": "",
            "_view_module": "@jupyter-widgets/base",
            "_model_module_version": "1.5.0",
            "_view_count": null,
            "_view_module_version": "1.2.0",
            "_model_module": "@jupyter-widgets/controls"
          }
        },
        "8f0330488c5e4effb52a4655d3f13685": {
          "model_module": "@jupyter-widgets/base",
          "model_name": "LayoutModel",
          "state": {
            "_view_name": "LayoutView",
            "grid_template_rows": null,
            "right": null,
            "justify_content": null,
            "_view_module": "@jupyter-widgets/base",
            "overflow": null,
            "_model_module_version": "1.2.0",
            "_view_count": null,
            "flex_flow": null,
            "width": null,
            "min_width": null,
            "border": null,
            "align_items": null,
            "bottom": null,
            "_model_module": "@jupyter-widgets/base",
            "top": null,
            "grid_column": null,
            "overflow_y": null,
            "overflow_x": null,
            "grid_auto_flow": null,
            "grid_area": null,
            "grid_template_columns": null,
            "flex": null,
            "_model_name": "LayoutModel",
            "justify_items": null,
            "grid_row": null,
            "max_height": null,
            "align_content": null,
            "visibility": null,
            "align_self": null,
            "height": null,
            "min_height": null,
            "padding": null,
            "grid_auto_rows": null,
            "grid_gap": null,
            "max_width": null,
            "order": null,
            "_view_module_version": "1.2.0",
            "grid_template_areas": null,
            "object_position": null,
            "object_fit": null,
            "grid_auto_columns": null,
            "margin": null,
            "display": null,
            "left": null
          }
        },
        "3b19faeb6d464151af812d95671d4fc8": {
          "model_module": "@jupyter-widgets/controls",
          "model_name": "HBoxModel",
          "state": {
            "_view_name": "HBoxView",
            "_dom_classes": [],
            "_model_name": "HBoxModel",
            "_view_module": "@jupyter-widgets/controls",
            "_model_module_version": "1.5.0",
            "_view_count": null,
            "_view_module_version": "1.5.0",
            "box_style": "",
            "layout": "IPY_MODEL_d04716c5502a42838a056e281ebb8191",
            "_model_module": "@jupyter-widgets/controls",
            "children": [
              "IPY_MODEL_add0518a38e246e7a883ca293721b4a6",
              "IPY_MODEL_5a13675928a047d985a72c2e0a2cfaa2"
            ]
          }
        },
        "d04716c5502a42838a056e281ebb8191": {
          "model_module": "@jupyter-widgets/base",
          "model_name": "LayoutModel",
          "state": {
            "_view_name": "LayoutView",
            "grid_template_rows": null,
            "right": null,
            "justify_content": null,
            "_view_module": "@jupyter-widgets/base",
            "overflow": null,
            "_model_module_version": "1.2.0",
            "_view_count": null,
            "flex_flow": null,
            "width": null,
            "min_width": null,
            "border": null,
            "align_items": null,
            "bottom": null,
            "_model_module": "@jupyter-widgets/base",
            "top": null,
            "grid_column": null,
            "overflow_y": null,
            "overflow_x": null,
            "grid_auto_flow": null,
            "grid_area": null,
            "grid_template_columns": null,
            "flex": null,
            "_model_name": "LayoutModel",
            "justify_items": null,
            "grid_row": null,
            "max_height": null,
            "align_content": null,
            "visibility": null,
            "align_self": null,
            "height": null,
            "min_height": null,
            "padding": null,
            "grid_auto_rows": null,
            "grid_gap": null,
            "max_width": null,
            "order": null,
            "_view_module_version": "1.2.0",
            "grid_template_areas": null,
            "object_position": null,
            "object_fit": null,
            "grid_auto_columns": null,
            "margin": null,
            "display": null,
            "left": null
          }
        },
        "add0518a38e246e7a883ca293721b4a6": {
          "model_module": "@jupyter-widgets/controls",
          "model_name": "FloatProgressModel",
          "state": {
            "_view_name": "ProgressView",
            "style": "IPY_MODEL_2173bed2a84f4d73af7d8f38d2c0eeec",
            "_dom_classes": [],
            "description": "Extraction completed...: 100%",
            "_model_name": "FloatProgressModel",
            "bar_style": "success",
            "max": 1,
            "_view_module": "@jupyter-widgets/controls",
            "_model_module_version": "1.5.0",
            "value": 1,
            "_view_count": null,
            "_view_module_version": "1.5.0",
            "orientation": "horizontal",
            "min": 0,
            "description_tooltip": null,
            "_model_module": "@jupyter-widgets/controls",
            "layout": "IPY_MODEL_fc036cdd42e64e65b2a2cc20ec81fa03"
          }
        },
        "5a13675928a047d985a72c2e0a2cfaa2": {
          "model_module": "@jupyter-widgets/controls",
          "model_name": "HTMLModel",
          "state": {
            "_view_name": "HTMLView",
            "style": "IPY_MODEL_28ad9a8679514d059caa7b6daffcbfa4",
            "_dom_classes": [],
            "description": "",
            "_model_name": "HTMLModel",
            "placeholder": "​",
            "_view_module": "@jupyter-widgets/controls",
            "_model_module_version": "1.5.0",
            "value": " 4/4 [00:02&lt;00:00,  1.80 file/s]",
            "_view_count": null,
            "_view_module_version": "1.5.0",
            "description_tooltip": null,
            "_model_module": "@jupyter-widgets/controls",
            "layout": "IPY_MODEL_caad026c7f984b75aba6cc12e2c7e36c"
          }
        },
        "2173bed2a84f4d73af7d8f38d2c0eeec": {
          "model_module": "@jupyter-widgets/controls",
          "model_name": "ProgressStyleModel",
          "state": {
            "_view_name": "StyleView",
            "_model_name": "ProgressStyleModel",
            "description_width": "initial",
            "_view_module": "@jupyter-widgets/base",
            "_model_module_version": "1.5.0",
            "_view_count": null,
            "_view_module_version": "1.2.0",
            "bar_color": null,
            "_model_module": "@jupyter-widgets/controls"
          }
        },
        "fc036cdd42e64e65b2a2cc20ec81fa03": {
          "model_module": "@jupyter-widgets/base",
          "model_name": "LayoutModel",
          "state": {
            "_view_name": "LayoutView",
            "grid_template_rows": null,
            "right": null,
            "justify_content": null,
            "_view_module": "@jupyter-widgets/base",
            "overflow": null,
            "_model_module_version": "1.2.0",
            "_view_count": null,
            "flex_flow": null,
            "width": null,
            "min_width": null,
            "border": null,
            "align_items": null,
            "bottom": null,
            "_model_module": "@jupyter-widgets/base",
            "top": null,
            "grid_column": null,
            "overflow_y": null,
            "overflow_x": null,
            "grid_auto_flow": null,
            "grid_area": null,
            "grid_template_columns": null,
            "flex": null,
            "_model_name": "LayoutModel",
            "justify_items": null,
            "grid_row": null,
            "max_height": null,
            "align_content": null,
            "visibility": null,
            "align_self": null,
            "height": null,
            "min_height": null,
            "padding": null,
            "grid_auto_rows": null,
            "grid_gap": null,
            "max_width": null,
            "order": null,
            "_view_module_version": "1.2.0",
            "grid_template_areas": null,
            "object_position": null,
            "object_fit": null,
            "grid_auto_columns": null,
            "margin": null,
            "display": null,
            "left": null
          }
        },
        "28ad9a8679514d059caa7b6daffcbfa4": {
          "model_module": "@jupyter-widgets/controls",
          "model_name": "DescriptionStyleModel",
          "state": {
            "_view_name": "StyleView",
            "_model_name": "DescriptionStyleModel",
            "description_width": "",
            "_view_module": "@jupyter-widgets/base",
            "_model_module_version": "1.5.0",
            "_view_count": null,
            "_view_module_version": "1.2.0",
            "_model_module": "@jupyter-widgets/controls"
          }
        },
        "caad026c7f984b75aba6cc12e2c7e36c": {
          "model_module": "@jupyter-widgets/base",
          "model_name": "LayoutModel",
          "state": {
            "_view_name": "LayoutView",
            "grid_template_rows": null,
            "right": null,
            "justify_content": null,
            "_view_module": "@jupyter-widgets/base",
            "overflow": null,
            "_model_module_version": "1.2.0",
            "_view_count": null,
            "flex_flow": null,
            "width": null,
            "min_width": null,
            "border": null,
            "align_items": null,
            "bottom": null,
            "_model_module": "@jupyter-widgets/base",
            "top": null,
            "grid_column": null,
            "overflow_y": null,
            "overflow_x": null,
            "grid_auto_flow": null,
            "grid_area": null,
            "grid_template_columns": null,
            "flex": null,
            "_model_name": "LayoutModel",
            "justify_items": null,
            "grid_row": null,
            "max_height": null,
            "align_content": null,
            "visibility": null,
            "align_self": null,
            "height": null,
            "min_height": null,
            "padding": null,
            "grid_auto_rows": null,
            "grid_gap": null,
            "max_width": null,
            "order": null,
            "_view_module_version": "1.2.0",
            "grid_template_areas": null,
            "object_position": null,
            "object_fit": null,
            "grid_auto_columns": null,
            "margin": null,
            "display": null,
            "left": null
          }
        },
        "c07393022532463fa88c6ee11a8108fd": {
          "model_module": "@jupyter-widgets/controls",
          "model_name": "HBoxModel",
          "state": {
            "_view_name": "HBoxView",
            "_dom_classes": [],
            "_model_name": "HBoxModel",
            "_view_module": "@jupyter-widgets/controls",
            "_model_module_version": "1.5.0",
            "_view_count": null,
            "_view_module_version": "1.5.0",
            "box_style": "",
            "layout": "IPY_MODEL_9797d190f0724767b9cefbd1d52fbc91",
            "_model_module": "@jupyter-widgets/controls",
            "children": [
              "IPY_MODEL_e49404a60dd144bbb371692b065c53a4",
              "IPY_MODEL_d1133f2b19cf435a96d4673793343e79"
            ]
          }
        },
        "9797d190f0724767b9cefbd1d52fbc91": {
          "model_module": "@jupyter-widgets/base",
          "model_name": "LayoutModel",
          "state": {
            "_view_name": "LayoutView",
            "grid_template_rows": null,
            "right": null,
            "justify_content": null,
            "_view_module": "@jupyter-widgets/base",
            "overflow": null,
            "_model_module_version": "1.2.0",
            "_view_count": null,
            "flex_flow": null,
            "width": null,
            "min_width": null,
            "border": null,
            "align_items": null,
            "bottom": null,
            "_model_module": "@jupyter-widgets/base",
            "top": null,
            "grid_column": null,
            "overflow_y": null,
            "overflow_x": null,
            "grid_auto_flow": null,
            "grid_area": null,
            "grid_template_columns": null,
            "flex": null,
            "_model_name": "LayoutModel",
            "justify_items": null,
            "grid_row": null,
            "max_height": null,
            "align_content": null,
            "visibility": null,
            "align_self": null,
            "height": null,
            "min_height": null,
            "padding": null,
            "grid_auto_rows": null,
            "grid_gap": null,
            "max_width": null,
            "order": null,
            "_view_module_version": "1.2.0",
            "grid_template_areas": null,
            "object_position": null,
            "object_fit": null,
            "grid_auto_columns": null,
            "margin": null,
            "display": null,
            "left": null
          }
        },
        "e49404a60dd144bbb371692b065c53a4": {
          "model_module": "@jupyter-widgets/controls",
          "model_name": "FloatProgressModel",
          "state": {
            "_view_name": "ProgressView",
            "style": "IPY_MODEL_fd6d03a372f74b219e6e65182b6ee1a5",
            "_dom_classes": [],
            "description": "",
            "_model_name": "FloatProgressModel",
            "bar_style": "info",
            "max": 1,
            "_view_module": "@jupyter-widgets/controls",
            "_model_module_version": "1.5.0",
            "value": 1,
            "_view_count": null,
            "_view_module_version": "1.5.0",
            "orientation": "horizontal",
            "min": 0,
            "description_tooltip": null,
            "_model_module": "@jupyter-widgets/controls",
            "layout": "IPY_MODEL_c93e6e4e1a95465392f1f44ca81cb5cb"
          }
        },
        "d1133f2b19cf435a96d4673793343e79": {
          "model_module": "@jupyter-widgets/controls",
          "model_name": "HTMLModel",
          "state": {
            "_view_name": "HTMLView",
            "style": "IPY_MODEL_ede0c8d3353e4a75adeb3158cd042241",
            "_dom_classes": [],
            "description": "",
            "_model_name": "HTMLModel",
            "placeholder": "​",
            "_view_module": "@jupyter-widgets/controls",
            "_model_module_version": "1.5.0",
            "value": " 60000/0 [00:24&lt;00:00, 3261.68 examples/s]",
            "_view_count": null,
            "_view_module_version": "1.5.0",
            "description_tooltip": null,
            "_model_module": "@jupyter-widgets/controls",
            "layout": "IPY_MODEL_665c0a9feadf42d893a64f69a060542f"
          }
        },
        "fd6d03a372f74b219e6e65182b6ee1a5": {
          "model_module": "@jupyter-widgets/controls",
          "model_name": "ProgressStyleModel",
          "state": {
            "_view_name": "StyleView",
            "_model_name": "ProgressStyleModel",
            "description_width": "initial",
            "_view_module": "@jupyter-widgets/base",
            "_model_module_version": "1.5.0",
            "_view_count": null,
            "_view_module_version": "1.2.0",
            "bar_color": null,
            "_model_module": "@jupyter-widgets/controls"
          }
        },
        "c93e6e4e1a95465392f1f44ca81cb5cb": {
          "model_module": "@jupyter-widgets/base",
          "model_name": "LayoutModel",
          "state": {
            "_view_name": "LayoutView",
            "grid_template_rows": null,
            "right": null,
            "justify_content": null,
            "_view_module": "@jupyter-widgets/base",
            "overflow": null,
            "_model_module_version": "1.2.0",
            "_view_count": null,
            "flex_flow": null,
            "width": null,
            "min_width": null,
            "border": null,
            "align_items": null,
            "bottom": null,
            "_model_module": "@jupyter-widgets/base",
            "top": null,
            "grid_column": null,
            "overflow_y": null,
            "overflow_x": null,
            "grid_auto_flow": null,
            "grid_area": null,
            "grid_template_columns": null,
            "flex": null,
            "_model_name": "LayoutModel",
            "justify_items": null,
            "grid_row": null,
            "max_height": null,
            "align_content": null,
            "visibility": null,
            "align_self": null,
            "height": null,
            "min_height": null,
            "padding": null,
            "grid_auto_rows": null,
            "grid_gap": null,
            "max_width": null,
            "order": null,
            "_view_module_version": "1.2.0",
            "grid_template_areas": null,
            "object_position": null,
            "object_fit": null,
            "grid_auto_columns": null,
            "margin": null,
            "display": null,
            "left": null
          }
        },
        "ede0c8d3353e4a75adeb3158cd042241": {
          "model_module": "@jupyter-widgets/controls",
          "model_name": "DescriptionStyleModel",
          "state": {
            "_view_name": "StyleView",
            "_model_name": "DescriptionStyleModel",
            "description_width": "",
            "_view_module": "@jupyter-widgets/base",
            "_model_module_version": "1.5.0",
            "_view_count": null,
            "_view_module_version": "1.2.0",
            "_model_module": "@jupyter-widgets/controls"
          }
        },
        "665c0a9feadf42d893a64f69a060542f": {
          "model_module": "@jupyter-widgets/base",
          "model_name": "LayoutModel",
          "state": {
            "_view_name": "LayoutView",
            "grid_template_rows": null,
            "right": null,
            "justify_content": null,
            "_view_module": "@jupyter-widgets/base",
            "overflow": null,
            "_model_module_version": "1.2.0",
            "_view_count": null,
            "flex_flow": null,
            "width": null,
            "min_width": null,
            "border": null,
            "align_items": null,
            "bottom": null,
            "_model_module": "@jupyter-widgets/base",
            "top": null,
            "grid_column": null,
            "overflow_y": null,
            "overflow_x": null,
            "grid_auto_flow": null,
            "grid_area": null,
            "grid_template_columns": null,
            "flex": null,
            "_model_name": "LayoutModel",
            "justify_items": null,
            "grid_row": null,
            "max_height": null,
            "align_content": null,
            "visibility": null,
            "align_self": null,
            "height": null,
            "min_height": null,
            "padding": null,
            "grid_auto_rows": null,
            "grid_gap": null,
            "max_width": null,
            "order": null,
            "_view_module_version": "1.2.0",
            "grid_template_areas": null,
            "object_position": null,
            "object_fit": null,
            "grid_auto_columns": null,
            "margin": null,
            "display": null,
            "left": null
          }
        },
        "1b96f11b01594a1595cc16d01c2932a1": {
          "model_module": "@jupyter-widgets/controls",
          "model_name": "HBoxModel",
          "state": {
            "_view_name": "HBoxView",
            "_dom_classes": [],
            "_model_name": "HBoxModel",
            "_view_module": "@jupyter-widgets/controls",
            "_model_module_version": "1.5.0",
            "_view_count": null,
            "_view_module_version": "1.5.0",
            "box_style": "",
            "layout": "IPY_MODEL_2370c27441b54b12b732f1d9656db1c7",
            "_model_module": "@jupyter-widgets/controls",
            "children": [
              "IPY_MODEL_c6bf1964bedf41f38cfe7e372f7faf94",
              "IPY_MODEL_a73d5f5b3dd24acd9fec131f9fc36d22"
            ]
          }
        },
        "2370c27441b54b12b732f1d9656db1c7": {
          "model_module": "@jupyter-widgets/base",
          "model_name": "LayoutModel",
          "state": {
            "_view_name": "LayoutView",
            "grid_template_rows": null,
            "right": null,
            "justify_content": null,
            "_view_module": "@jupyter-widgets/base",
            "overflow": null,
            "_model_module_version": "1.2.0",
            "_view_count": null,
            "flex_flow": null,
            "width": null,
            "min_width": null,
            "border": null,
            "align_items": null,
            "bottom": null,
            "_model_module": "@jupyter-widgets/base",
            "top": null,
            "grid_column": null,
            "overflow_y": null,
            "overflow_x": null,
            "grid_auto_flow": null,
            "grid_area": null,
            "grid_template_columns": null,
            "flex": null,
            "_model_name": "LayoutModel",
            "justify_items": null,
            "grid_row": null,
            "max_height": null,
            "align_content": null,
            "visibility": null,
            "align_self": null,
            "height": null,
            "min_height": null,
            "padding": null,
            "grid_auto_rows": null,
            "grid_gap": null,
            "max_width": null,
            "order": null,
            "_view_module_version": "1.2.0",
            "grid_template_areas": null,
            "object_position": null,
            "object_fit": null,
            "grid_auto_columns": null,
            "margin": null,
            "display": null,
            "left": null
          }
        },
        "c6bf1964bedf41f38cfe7e372f7faf94": {
          "model_module": "@jupyter-widgets/controls",
          "model_name": "FloatProgressModel",
          "state": {
            "_view_name": "ProgressView",
            "style": "IPY_MODEL_ce1eafb3e11f4a7ab310ab56d68741ee",
            "_dom_classes": [],
            "description": " 76%",
            "_model_name": "FloatProgressModel",
            "bar_style": "danger",
            "max": 60000,
            "_view_module": "@jupyter-widgets/controls",
            "_model_module_version": "1.5.0",
            "value": 45513,
            "_view_count": null,
            "_view_module_version": "1.5.0",
            "orientation": "horizontal",
            "min": 0,
            "description_tooltip": null,
            "_model_module": "@jupyter-widgets/controls",
            "layout": "IPY_MODEL_2eb775486f254760936d39fd103d7c0e"
          }
        },
        "a73d5f5b3dd24acd9fec131f9fc36d22": {
          "model_module": "@jupyter-widgets/controls",
          "model_name": "HTMLModel",
          "state": {
            "_view_name": "HTMLView",
            "style": "IPY_MODEL_f7bb2ce7fbb94e16898e0bccf06f8c93",
            "_dom_classes": [],
            "description": "",
            "_model_name": "HTMLModel",
            "placeholder": "​",
            "_view_module": "@jupyter-widgets/controls",
            "_model_module_version": "1.5.0",
            "value": " 45513/60000 [00:00&lt;00:00, 75335.68 examples/s]",
            "_view_count": null,
            "_view_module_version": "1.5.0",
            "description_tooltip": null,
            "_model_module": "@jupyter-widgets/controls",
            "layout": "IPY_MODEL_9438985cfd80403f992217cef037a832"
          }
        },
        "ce1eafb3e11f4a7ab310ab56d68741ee": {
          "model_module": "@jupyter-widgets/controls",
          "model_name": "ProgressStyleModel",
          "state": {
            "_view_name": "StyleView",
            "_model_name": "ProgressStyleModel",
            "description_width": "initial",
            "_view_module": "@jupyter-widgets/base",
            "_model_module_version": "1.5.0",
            "_view_count": null,
            "_view_module_version": "1.2.0",
            "bar_color": null,
            "_model_module": "@jupyter-widgets/controls"
          }
        },
        "2eb775486f254760936d39fd103d7c0e": {
          "model_module": "@jupyter-widgets/base",
          "model_name": "LayoutModel",
          "state": {
            "_view_name": "LayoutView",
            "grid_template_rows": null,
            "right": null,
            "justify_content": null,
            "_view_module": "@jupyter-widgets/base",
            "overflow": null,
            "_model_module_version": "1.2.0",
            "_view_count": null,
            "flex_flow": null,
            "width": null,
            "min_width": null,
            "border": null,
            "align_items": null,
            "bottom": null,
            "_model_module": "@jupyter-widgets/base",
            "top": null,
            "grid_column": null,
            "overflow_y": null,
            "overflow_x": null,
            "grid_auto_flow": null,
            "grid_area": null,
            "grid_template_columns": null,
            "flex": null,
            "_model_name": "LayoutModel",
            "justify_items": null,
            "grid_row": null,
            "max_height": null,
            "align_content": null,
            "visibility": null,
            "align_self": null,
            "height": null,
            "min_height": null,
            "padding": null,
            "grid_auto_rows": null,
            "grid_gap": null,
            "max_width": null,
            "order": null,
            "_view_module_version": "1.2.0",
            "grid_template_areas": null,
            "object_position": null,
            "object_fit": null,
            "grid_auto_columns": null,
            "margin": null,
            "display": null,
            "left": null
          }
        },
        "f7bb2ce7fbb94e16898e0bccf06f8c93": {
          "model_module": "@jupyter-widgets/controls",
          "model_name": "DescriptionStyleModel",
          "state": {
            "_view_name": "StyleView",
            "_model_name": "DescriptionStyleModel",
            "description_width": "",
            "_view_module": "@jupyter-widgets/base",
            "_model_module_version": "1.5.0",
            "_view_count": null,
            "_view_module_version": "1.2.0",
            "_model_module": "@jupyter-widgets/controls"
          }
        },
        "9438985cfd80403f992217cef037a832": {
          "model_module": "@jupyter-widgets/base",
          "model_name": "LayoutModel",
          "state": {
            "_view_name": "LayoutView",
            "grid_template_rows": null,
            "right": null,
            "justify_content": null,
            "_view_module": "@jupyter-widgets/base",
            "overflow": null,
            "_model_module_version": "1.2.0",
            "_view_count": null,
            "flex_flow": null,
            "width": null,
            "min_width": null,
            "border": null,
            "align_items": null,
            "bottom": null,
            "_model_module": "@jupyter-widgets/base",
            "top": null,
            "grid_column": null,
            "overflow_y": null,
            "overflow_x": null,
            "grid_auto_flow": null,
            "grid_area": null,
            "grid_template_columns": null,
            "flex": null,
            "_model_name": "LayoutModel",
            "justify_items": null,
            "grid_row": null,
            "max_height": null,
            "align_content": null,
            "visibility": null,
            "align_self": null,
            "height": null,
            "min_height": null,
            "padding": null,
            "grid_auto_rows": null,
            "grid_gap": null,
            "max_width": null,
            "order": null,
            "_view_module_version": "1.2.0",
            "grid_template_areas": null,
            "object_position": null,
            "object_fit": null,
            "grid_auto_columns": null,
            "margin": null,
            "display": null,
            "left": null
          }
        },
        "c96a132be7914f4789f6a51ea270e148": {
          "model_module": "@jupyter-widgets/controls",
          "model_name": "HBoxModel",
          "state": {
            "_view_name": "HBoxView",
            "_dom_classes": [],
            "_model_name": "HBoxModel",
            "_view_module": "@jupyter-widgets/controls",
            "_model_module_version": "1.5.0",
            "_view_count": null,
            "_view_module_version": "1.5.0",
            "box_style": "",
            "layout": "IPY_MODEL_b828def33e07495d972dc7dc5f86ac26",
            "_model_module": "@jupyter-widgets/controls",
            "children": [
              "IPY_MODEL_c0e0bd757d604c7eae31f0a1611f0b21",
              "IPY_MODEL_bf1fc22c407b4e0d97229bc9e99e3723"
            ]
          }
        },
        "b828def33e07495d972dc7dc5f86ac26": {
          "model_module": "@jupyter-widgets/base",
          "model_name": "LayoutModel",
          "state": {
            "_view_name": "LayoutView",
            "grid_template_rows": null,
            "right": null,
            "justify_content": null,
            "_view_module": "@jupyter-widgets/base",
            "overflow": null,
            "_model_module_version": "1.2.0",
            "_view_count": null,
            "flex_flow": null,
            "width": null,
            "min_width": null,
            "border": null,
            "align_items": null,
            "bottom": null,
            "_model_module": "@jupyter-widgets/base",
            "top": null,
            "grid_column": null,
            "overflow_y": null,
            "overflow_x": null,
            "grid_auto_flow": null,
            "grid_area": null,
            "grid_template_columns": null,
            "flex": null,
            "_model_name": "LayoutModel",
            "justify_items": null,
            "grid_row": null,
            "max_height": null,
            "align_content": null,
            "visibility": null,
            "align_self": null,
            "height": null,
            "min_height": null,
            "padding": null,
            "grid_auto_rows": null,
            "grid_gap": null,
            "max_width": null,
            "order": null,
            "_view_module_version": "1.2.0",
            "grid_template_areas": null,
            "object_position": null,
            "object_fit": null,
            "grid_auto_columns": null,
            "margin": null,
            "display": null,
            "left": null
          }
        },
        "c0e0bd757d604c7eae31f0a1611f0b21": {
          "model_module": "@jupyter-widgets/controls",
          "model_name": "FloatProgressModel",
          "state": {
            "_view_name": "ProgressView",
            "style": "IPY_MODEL_804e8fe9f46e4983909c89b4756823c4",
            "_dom_classes": [],
            "description": "",
            "_model_name": "FloatProgressModel",
            "bar_style": "info",
            "max": 1,
            "_view_module": "@jupyter-widgets/controls",
            "_model_module_version": "1.5.0",
            "value": 1,
            "_view_count": null,
            "_view_module_version": "1.5.0",
            "orientation": "horizontal",
            "min": 0,
            "description_tooltip": null,
            "_model_module": "@jupyter-widgets/controls",
            "layout": "IPY_MODEL_05dba72b654d47a0bbb3baaeaa1e8b7f"
          }
        },
        "bf1fc22c407b4e0d97229bc9e99e3723": {
          "model_module": "@jupyter-widgets/controls",
          "model_name": "HTMLModel",
          "state": {
            "_view_name": "HTMLView",
            "style": "IPY_MODEL_808ca2227b8249a7bde5767b439cc892",
            "_dom_classes": [],
            "description": "",
            "_model_name": "HTMLModel",
            "placeholder": "​",
            "_view_module": "@jupyter-widgets/controls",
            "_model_module_version": "1.5.0",
            "value": " 10000/0 [00:03&lt;00:00, 3211.58 examples/s]",
            "_view_count": null,
            "_view_module_version": "1.5.0",
            "description_tooltip": null,
            "_model_module": "@jupyter-widgets/controls",
            "layout": "IPY_MODEL_b97aaaddd47f40e68efa749e62962a1e"
          }
        },
        "804e8fe9f46e4983909c89b4756823c4": {
          "model_module": "@jupyter-widgets/controls",
          "model_name": "ProgressStyleModel",
          "state": {
            "_view_name": "StyleView",
            "_model_name": "ProgressStyleModel",
            "description_width": "initial",
            "_view_module": "@jupyter-widgets/base",
            "_model_module_version": "1.5.0",
            "_view_count": null,
            "_view_module_version": "1.2.0",
            "bar_color": null,
            "_model_module": "@jupyter-widgets/controls"
          }
        },
        "05dba72b654d47a0bbb3baaeaa1e8b7f": {
          "model_module": "@jupyter-widgets/base",
          "model_name": "LayoutModel",
          "state": {
            "_view_name": "LayoutView",
            "grid_template_rows": null,
            "right": null,
            "justify_content": null,
            "_view_module": "@jupyter-widgets/base",
            "overflow": null,
            "_model_module_version": "1.2.0",
            "_view_count": null,
            "flex_flow": null,
            "width": null,
            "min_width": null,
            "border": null,
            "align_items": null,
            "bottom": null,
            "_model_module": "@jupyter-widgets/base",
            "top": null,
            "grid_column": null,
            "overflow_y": null,
            "overflow_x": null,
            "grid_auto_flow": null,
            "grid_area": null,
            "grid_template_columns": null,
            "flex": null,
            "_model_name": "LayoutModel",
            "justify_items": null,
            "grid_row": null,
            "max_height": null,
            "align_content": null,
            "visibility": null,
            "align_self": null,
            "height": null,
            "min_height": null,
            "padding": null,
            "grid_auto_rows": null,
            "grid_gap": null,
            "max_width": null,
            "order": null,
            "_view_module_version": "1.2.0",
            "grid_template_areas": null,
            "object_position": null,
            "object_fit": null,
            "grid_auto_columns": null,
            "margin": null,
            "display": null,
            "left": null
          }
        },
        "808ca2227b8249a7bde5767b439cc892": {
          "model_module": "@jupyter-widgets/controls",
          "model_name": "DescriptionStyleModel",
          "state": {
            "_view_name": "StyleView",
            "_model_name": "DescriptionStyleModel",
            "description_width": "",
            "_view_module": "@jupyter-widgets/base",
            "_model_module_version": "1.5.0",
            "_view_count": null,
            "_view_module_version": "1.2.0",
            "_model_module": "@jupyter-widgets/controls"
          }
        },
        "b97aaaddd47f40e68efa749e62962a1e": {
          "model_module": "@jupyter-widgets/base",
          "model_name": "LayoutModel",
          "state": {
            "_view_name": "LayoutView",
            "grid_template_rows": null,
            "right": null,
            "justify_content": null,
            "_view_module": "@jupyter-widgets/base",
            "overflow": null,
            "_model_module_version": "1.2.0",
            "_view_count": null,
            "flex_flow": null,
            "width": null,
            "min_width": null,
            "border": null,
            "align_items": null,
            "bottom": null,
            "_model_module": "@jupyter-widgets/base",
            "top": null,
            "grid_column": null,
            "overflow_y": null,
            "overflow_x": null,
            "grid_auto_flow": null,
            "grid_area": null,
            "grid_template_columns": null,
            "flex": null,
            "_model_name": "LayoutModel",
            "justify_items": null,
            "grid_row": null,
            "max_height": null,
            "align_content": null,
            "visibility": null,
            "align_self": null,
            "height": null,
            "min_height": null,
            "padding": null,
            "grid_auto_rows": null,
            "grid_gap": null,
            "max_width": null,
            "order": null,
            "_view_module_version": "1.2.0",
            "grid_template_areas": null,
            "object_position": null,
            "object_fit": null,
            "grid_auto_columns": null,
            "margin": null,
            "display": null,
            "left": null
          }
        },
        "4fe80878c2d947b2bfef5d721e2db644": {
          "model_module": "@jupyter-widgets/controls",
          "model_name": "HBoxModel",
          "state": {
            "_view_name": "HBoxView",
            "_dom_classes": [],
            "_model_name": "HBoxModel",
            "_view_module": "@jupyter-widgets/controls",
            "_model_module_version": "1.5.0",
            "_view_count": null,
            "_view_module_version": "1.5.0",
            "box_style": "",
            "layout": "IPY_MODEL_2cc6ee241aef457fb369fedde2976757",
            "_model_module": "@jupyter-widgets/controls",
            "children": [
              "IPY_MODEL_aed1bde99b934fdc9e2a70ed02cd9de7",
              "IPY_MODEL_25ac31892c714c99b76748cf53baf628"
            ]
          }
        },
        "2cc6ee241aef457fb369fedde2976757": {
          "model_module": "@jupyter-widgets/base",
          "model_name": "LayoutModel",
          "state": {
            "_view_name": "LayoutView",
            "grid_template_rows": null,
            "right": null,
            "justify_content": null,
            "_view_module": "@jupyter-widgets/base",
            "overflow": null,
            "_model_module_version": "1.2.0",
            "_view_count": null,
            "flex_flow": null,
            "width": null,
            "min_width": null,
            "border": null,
            "align_items": null,
            "bottom": null,
            "_model_module": "@jupyter-widgets/base",
            "top": null,
            "grid_column": null,
            "overflow_y": null,
            "overflow_x": null,
            "grid_auto_flow": null,
            "grid_area": null,
            "grid_template_columns": null,
            "flex": null,
            "_model_name": "LayoutModel",
            "justify_items": null,
            "grid_row": null,
            "max_height": null,
            "align_content": null,
            "visibility": null,
            "align_self": null,
            "height": null,
            "min_height": null,
            "padding": null,
            "grid_auto_rows": null,
            "grid_gap": null,
            "max_width": null,
            "order": null,
            "_view_module_version": "1.2.0",
            "grid_template_areas": null,
            "object_position": null,
            "object_fit": null,
            "grid_auto_columns": null,
            "margin": null,
            "display": null,
            "left": null
          }
        },
        "aed1bde99b934fdc9e2a70ed02cd9de7": {
          "model_module": "@jupyter-widgets/controls",
          "model_name": "FloatProgressModel",
          "state": {
            "_view_name": "ProgressView",
            "style": "IPY_MODEL_8d97b6866dac4945a1fd75b576d2d538",
            "_dom_classes": [],
            "description": "  0%",
            "_model_name": "FloatProgressModel",
            "bar_style": "danger",
            "max": 10000,
            "_view_module": "@jupyter-widgets/controls",
            "_model_module_version": "1.5.0",
            "value": 0,
            "_view_count": null,
            "_view_module_version": "1.5.0",
            "orientation": "horizontal",
            "min": 0,
            "description_tooltip": null,
            "_model_module": "@jupyter-widgets/controls",
            "layout": "IPY_MODEL_411b665fae3f46608d81f4fb1a4ed809"
          }
        },
        "25ac31892c714c99b76748cf53baf628": {
          "model_module": "@jupyter-widgets/controls",
          "model_name": "HTMLModel",
          "state": {
            "_view_name": "HTMLView",
            "style": "IPY_MODEL_1538f0fd73fe4a01b821eaeecdfc5ecd",
            "_dom_classes": [],
            "description": "",
            "_model_name": "HTMLModel",
            "placeholder": "​",
            "_view_module": "@jupyter-widgets/controls",
            "_model_module_version": "1.5.0",
            "value": " 0/10000 [00:00&lt;?, ? examples/s]",
            "_view_count": null,
            "_view_module_version": "1.5.0",
            "description_tooltip": null,
            "_model_module": "@jupyter-widgets/controls",
            "layout": "IPY_MODEL_87a0b5442768411cb057660bc4bf6cc6"
          }
        },
        "8d97b6866dac4945a1fd75b576d2d538": {
          "model_module": "@jupyter-widgets/controls",
          "model_name": "ProgressStyleModel",
          "state": {
            "_view_name": "StyleView",
            "_model_name": "ProgressStyleModel",
            "description_width": "initial",
            "_view_module": "@jupyter-widgets/base",
            "_model_module_version": "1.5.0",
            "_view_count": null,
            "_view_module_version": "1.2.0",
            "bar_color": null,
            "_model_module": "@jupyter-widgets/controls"
          }
        },
        "411b665fae3f46608d81f4fb1a4ed809": {
          "model_module": "@jupyter-widgets/base",
          "model_name": "LayoutModel",
          "state": {
            "_view_name": "LayoutView",
            "grid_template_rows": null,
            "right": null,
            "justify_content": null,
            "_view_module": "@jupyter-widgets/base",
            "overflow": null,
            "_model_module_version": "1.2.0",
            "_view_count": null,
            "flex_flow": null,
            "width": null,
            "min_width": null,
            "border": null,
            "align_items": null,
            "bottom": null,
            "_model_module": "@jupyter-widgets/base",
            "top": null,
            "grid_column": null,
            "overflow_y": null,
            "overflow_x": null,
            "grid_auto_flow": null,
            "grid_area": null,
            "grid_template_columns": null,
            "flex": null,
            "_model_name": "LayoutModel",
            "justify_items": null,
            "grid_row": null,
            "max_height": null,
            "align_content": null,
            "visibility": null,
            "align_self": null,
            "height": null,
            "min_height": null,
            "padding": null,
            "grid_auto_rows": null,
            "grid_gap": null,
            "max_width": null,
            "order": null,
            "_view_module_version": "1.2.0",
            "grid_template_areas": null,
            "object_position": null,
            "object_fit": null,
            "grid_auto_columns": null,
            "margin": null,
            "display": null,
            "left": null
          }
        },
        "1538f0fd73fe4a01b821eaeecdfc5ecd": {
          "model_module": "@jupyter-widgets/controls",
          "model_name": "DescriptionStyleModel",
          "state": {
            "_view_name": "StyleView",
            "_model_name": "DescriptionStyleModel",
            "description_width": "",
            "_view_module": "@jupyter-widgets/base",
            "_model_module_version": "1.5.0",
            "_view_count": null,
            "_view_module_version": "1.2.0",
            "_model_module": "@jupyter-widgets/controls"
          }
        },
        "87a0b5442768411cb057660bc4bf6cc6": {
          "model_module": "@jupyter-widgets/base",
          "model_name": "LayoutModel",
          "state": {
            "_view_name": "LayoutView",
            "grid_template_rows": null,
            "right": null,
            "justify_content": null,
            "_view_module": "@jupyter-widgets/base",
            "overflow": null,
            "_model_module_version": "1.2.0",
            "_view_count": null,
            "flex_flow": null,
            "width": null,
            "min_width": null,
            "border": null,
            "align_items": null,
            "bottom": null,
            "_model_module": "@jupyter-widgets/base",
            "top": null,
            "grid_column": null,
            "overflow_y": null,
            "overflow_x": null,
            "grid_auto_flow": null,
            "grid_area": null,
            "grid_template_columns": null,
            "flex": null,
            "_model_name": "LayoutModel",
            "justify_items": null,
            "grid_row": null,
            "max_height": null,
            "align_content": null,
            "visibility": null,
            "align_self": null,
            "height": null,
            "min_height": null,
            "padding": null,
            "grid_auto_rows": null,
            "grid_gap": null,
            "max_width": null,
            "order": null,
            "_view_module_version": "1.2.0",
            "grid_template_areas": null,
            "object_position": null,
            "object_fit": null,
            "grid_auto_columns": null,
            "margin": null,
            "display": null,
            "left": null
          }
        }
      }
    }
  },
  "cells": [
    {
      "cell_type": "markdown",
      "metadata": {
        "id": "view-in-github",
        "colab_type": "text"
      },
      "source": [
        "<a href=\"https://colab.research.google.com/github/Spinkk/Implementing-ANNs-with-Tensorflow/blob/main/08/ANN_w08_Minseok.ipynb\" target=\"_parent\"><img src=\"https://colab.research.google.com/assets/colab-badge.svg\" alt=\"Open In Colab\"/></a>"
      ]
    },
    {
      "cell_type": "code",
      "metadata": {
        "id": "RQMl9xwhunFx"
      },
      "source": [
        "import time\n",
        "import datetime\n",
        "\n",
        "import numpy as np\n",
        "import matplotlib\n",
        "import matplotlib.pyplot as plt\n",
        " \n",
        "import tensorflow as tf\n",
        "import tensorflow_datasets as tfds "
      ],
      "execution_count": null,
      "outputs": []
    },
    {
      "cell_type": "markdown",
      "metadata": {
        "id": "Pw7fGHNsuqrt"
      },
      "source": [
        "# 1. Data set\n",
        "Data preprocessing is analogous to what has been done in week 7 (autoencoders). Notice that labels are not needed for GAN."
      ]
    },
    {
      "cell_type": "code",
      "metadata": {
        "colab": {
          "base_uri": "https://localhost:8080/",
          "referenced_widgets": [
            "386bbe6fa44c4ed5bec13c62896f71d2",
            "8bbc9443bb91425bb4b6dca27126876e",
            "018bd69a4b37441fb8dfb32db1fabe09",
            "e58e195cf8b14997a32525e04919cefa",
            "0a6e207ff15d43b0a785a157619c9aba",
            "b70870e528484da09f5031bb5eb3ff5b",
            "4cd0fc334df3427598c623b3917a2f9e",
            "a4e72117cce24a28bde4d85798fc61cd",
            "04bb2d4867ab48919766950ed0f42f27",
            "49f6223411fe4d7682b80ca43f6766e8",
            "576511decc0d454384e178c2dee1c0f1",
            "ad742b7954bf40c9b3ca6576abec7485",
            "87a80f3717d64ddbb46f7da640f21d6c",
            "67ed193b53a54679b15f31e5b60f7d86",
            "5ea6137de21f4690963015c5968dc1a6",
            "8f0330488c5e4effb52a4655d3f13685",
            "3b19faeb6d464151af812d95671d4fc8",
            "d04716c5502a42838a056e281ebb8191",
            "add0518a38e246e7a883ca293721b4a6",
            "5a13675928a047d985a72c2e0a2cfaa2",
            "2173bed2a84f4d73af7d8f38d2c0eeec",
            "fc036cdd42e64e65b2a2cc20ec81fa03",
            "28ad9a8679514d059caa7b6daffcbfa4",
            "caad026c7f984b75aba6cc12e2c7e36c",
            "c07393022532463fa88c6ee11a8108fd",
            "9797d190f0724767b9cefbd1d52fbc91",
            "e49404a60dd144bbb371692b065c53a4",
            "d1133f2b19cf435a96d4673793343e79",
            "fd6d03a372f74b219e6e65182b6ee1a5",
            "c93e6e4e1a95465392f1f44ca81cb5cb",
            "ede0c8d3353e4a75adeb3158cd042241",
            "665c0a9feadf42d893a64f69a060542f",
            "1b96f11b01594a1595cc16d01c2932a1",
            "2370c27441b54b12b732f1d9656db1c7",
            "c6bf1964bedf41f38cfe7e372f7faf94",
            "a73d5f5b3dd24acd9fec131f9fc36d22",
            "ce1eafb3e11f4a7ab310ab56d68741ee",
            "2eb775486f254760936d39fd103d7c0e",
            "f7bb2ce7fbb94e16898e0bccf06f8c93",
            "9438985cfd80403f992217cef037a832",
            "c96a132be7914f4789f6a51ea270e148",
            "b828def33e07495d972dc7dc5f86ac26",
            "c0e0bd757d604c7eae31f0a1611f0b21",
            "bf1fc22c407b4e0d97229bc9e99e3723",
            "804e8fe9f46e4983909c89b4756823c4",
            "05dba72b654d47a0bbb3baaeaa1e8b7f",
            "808ca2227b8249a7bde5767b439cc892",
            "b97aaaddd47f40e68efa749e62962a1e",
            "4fe80878c2d947b2bfef5d721e2db644",
            "2cc6ee241aef457fb369fedde2976757",
            "aed1bde99b934fdc9e2a70ed02cd9de7",
            "25ac31892c714c99b76748cf53baf628",
            "8d97b6866dac4945a1fd75b576d2d538",
            "411b665fae3f46608d81f4fb1a4ed809",
            "1538f0fd73fe4a01b821eaeecdfc5ecd",
            "87a0b5442768411cb057660bc4bf6cc6"
          ]
        },
        "id": "il0wT7Kqusdf",
        "outputId": "1040e9f6-694c-41f9-ea83-b77e5a6d1bff"
      },
      "source": [
        "def preprocess_tfds(dataset, batch_size=32, buffer_size=1024, prefetch_factor=tf.data.experimental.AUTOTUNE, shuffle=True):\n",
        "    '''\n",
        "    Create an input pipeline from tf.dataset. \n",
        "    Adjusted to only take input as there are no labels for autoencoders.\n",
        "    Does only do input pipeline optimization when desired (inputs are not None)\n",
        "\n",
        "    :param dataset: tf.dataset to preprocess\n",
        "    :param batch_size: int, default batch size is 32\n",
        "    :param buffer_size: int, default is 1024\n",
        "    :param prefetch_factor: int, default prefetch size is TF autotune\n",
        "    :returns: preprocessed tf.dataset\n",
        "    ''' \n",
        "    \n",
        "    # only use batching if shuffle is set to False\n",
        "    if not shuffle:\n",
        "        dataset = dataset.batch(batch_size, drop_remainder=True)\n",
        "    else:\n",
        "        dataset = dataset.shuffle(buffer_size).batch(batch_size, drop_remainder=True)\n",
        "    \n",
        "    # casting of the images to float32 and expanding dim since there is no channel dim\n",
        "    # dividing by 255 to min-max scale the input\n",
        "    # drop the label is it is not needed\n",
        "    dataset = dataset.map(lambda img, label: tf.cast(img, tf.float32)/255, \n",
        "                          num_parallel_calls=tf.data.experimental.AUTOTUNE)\n",
        "\n",
        "    # prefetch the dataset using AUTOTUNE to automatically find the optimal number of batches to prefetch\n",
        "    if not prefetch_factor is None:\n",
        "        dataset = dataset.prefetch(prefetch_factor)\n",
        "    return dataset\n",
        "\n",
        "\n",
        "## label codes for later analysis/visualization of encoded dataset\n",
        "label_code = ['T-Shirt', 'Trouser', 'Pullover', 'Dress', 'Coat', 'Sandal', 'Shirt', 'Sneaker', 'Bag', 'Ankle Boot']\n",
        "\n",
        "# load the entire dataset from tfds (you can also get fashion_mnist from keras)\n",
        "train_ds, test_ds = tfds.load('fashion_mnist', \n",
        "                              split=['train', 'test'], \n",
        "                              as_supervised=True, \n",
        "                              shuffle_files=False)\n",
        "\n",
        "\n",
        "train_ds = preprocess_tfds(train_ds)\n",
        "test_ds = preprocess_tfds(test_ds)"
      ],
      "execution_count": null,
      "outputs": [
        {
          "output_type": "stream",
          "text": [
            "\u001b[1mDownloading and preparing dataset fashion_mnist/3.0.1 (download: 29.45 MiB, generated: 36.42 MiB, total: 65.87 MiB) to /root/tensorflow_datasets/fashion_mnist/3.0.1...\u001b[0m\n"
          ],
          "name": "stdout"
        },
        {
          "output_type": "display_data",
          "data": {
            "application/vnd.jupyter.widget-view+json": {
              "model_id": "386bbe6fa44c4ed5bec13c62896f71d2",
              "version_minor": 0,
              "version_major": 2
            },
            "text/plain": [
              "HBox(children=(FloatProgress(value=1.0, bar_style='info', description='Dl Completed...', max=1.0, style=Progre…"
            ]
          },
          "metadata": {
            "tags": []
          }
        },
        {
          "output_type": "display_data",
          "data": {
            "application/vnd.jupyter.widget-view+json": {
              "model_id": "04bb2d4867ab48919766950ed0f42f27",
              "version_minor": 0,
              "version_major": 2
            },
            "text/plain": [
              "HBox(children=(FloatProgress(value=1.0, bar_style='info', description='Dl Size...', max=1.0, style=ProgressSty…"
            ]
          },
          "metadata": {
            "tags": []
          }
        },
        {
          "output_type": "display_data",
          "data": {
            "application/vnd.jupyter.widget-view+json": {
              "model_id": "3b19faeb6d464151af812d95671d4fc8",
              "version_minor": 0,
              "version_major": 2
            },
            "text/plain": [
              "HBox(children=(FloatProgress(value=1.0, bar_style='info', description='Extraction completed...', max=1.0, styl…"
            ]
          },
          "metadata": {
            "tags": []
          }
        },
        {
          "output_type": "stream",
          "text": [
            "\n",
            "\n",
            "\n",
            "\n",
            "\n",
            "\n"
          ],
          "name": "stdout"
        },
        {
          "output_type": "display_data",
          "data": {
            "application/vnd.jupyter.widget-view+json": {
              "model_id": "c07393022532463fa88c6ee11a8108fd",
              "version_minor": 0,
              "version_major": 2
            },
            "text/plain": [
              "HBox(children=(FloatProgress(value=1.0, bar_style='info', max=1.0), HTML(value='')))"
            ]
          },
          "metadata": {
            "tags": []
          }
        },
        {
          "output_type": "stream",
          "text": [
            "\rShuffling and writing examples to /root/tensorflow_datasets/fashion_mnist/3.0.1.incomplete1RZ5RC/fashion_mnist-train.tfrecord\n"
          ],
          "name": "stdout"
        },
        {
          "output_type": "display_data",
          "data": {
            "application/vnd.jupyter.widget-view+json": {
              "model_id": "1b96f11b01594a1595cc16d01c2932a1",
              "version_minor": 0,
              "version_major": 2
            },
            "text/plain": [
              "HBox(children=(FloatProgress(value=0.0, max=60000.0), HTML(value='')))"
            ]
          },
          "metadata": {
            "tags": []
          }
        },
        {
          "output_type": "stream",
          "text": [
            "\r"
          ],
          "name": "stdout"
        },
        {
          "output_type": "display_data",
          "data": {
            "application/vnd.jupyter.widget-view+json": {
              "model_id": "c96a132be7914f4789f6a51ea270e148",
              "version_minor": 0,
              "version_major": 2
            },
            "text/plain": [
              "HBox(children=(FloatProgress(value=1.0, bar_style='info', max=1.0), HTML(value='')))"
            ]
          },
          "metadata": {
            "tags": []
          }
        },
        {
          "output_type": "stream",
          "text": [
            "\rShuffling and writing examples to /root/tensorflow_datasets/fashion_mnist/3.0.1.incomplete1RZ5RC/fashion_mnist-test.tfrecord\n"
          ],
          "name": "stdout"
        },
        {
          "output_type": "display_data",
          "data": {
            "application/vnd.jupyter.widget-view+json": {
              "model_id": "4fe80878c2d947b2bfef5d721e2db644",
              "version_minor": 0,
              "version_major": 2
            },
            "text/plain": [
              "HBox(children=(FloatProgress(value=0.0, max=10000.0), HTML(value='')))"
            ]
          },
          "metadata": {
            "tags": []
          }
        },
        {
          "output_type": "stream",
          "text": [
            "\u001b[1mDataset fashion_mnist downloaded and prepared to /root/tensorflow_datasets/fashion_mnist/3.0.1. Subsequent calls will reuse this data.\u001b[0m\n",
            "\r"
          ],
          "name": "stdout"
        }
      ]
    },
    {
      "cell_type": "markdown",
      "metadata": {
        "id": "k52Ayp3QvWpN"
      },
      "source": [
        "# 2. Model\n",
        " - Discriminator\n",
        "\n",
        "input: picture (dim: batch_size x width x height x filter_num)\n",
        "\n",
        "output: real value between 0 and 1 (1 is 100% sure that the picture is real, 0 is 100% sure it's generated)\n",
        "\n",
        "Use convolution and dense layer at the end\n",
        "\n",
        "\\\n",
        "- Generator\n",
        "\n",
        "input - noise from latent dimension, output - fake picture\n",
        "\n",
        "Use dense layer, reshape to image, then transposed convolution to generate an image\n"
      ]
    },
    {
      "cell_type": "code",
      "metadata": {
        "id": "6A3clCshvWEL"
      },
      "source": [
        "class Discriminator(tf.keras.Model):\n",
        "    def __init__(self):\n",
        "        super(Discriminator, self).__init__()\n",
        "        self.slayers = [tf.keras.layers.Conv2D(filters=32,\n",
        "                                               kernel_size=3,\n",
        "                                               strides=(2,2),\n",
        "                                               input_shape=(None,28,28,1)),\n",
        "                        tf.keras.layers.BatchNormalization(),\n",
        "                        tf.keras.layers.Activation('relu'),\n",
        "                        tf.keras.layers.Conv2D(filters=64,\n",
        "                                               kernel_size=3,\n",
        "                                               strides=(2,2)),\n",
        "                        tf.keras.layers.BatchNormalization(),\n",
        "                        tf.keras.layers.Activation('relu'),\n",
        "                        tf.keras.layers.Flatten(),\n",
        "                        # binary decision of fake/real data\n",
        "                        tf.keras.layers.Dense(1, activation='sigmoid')]\n",
        "\n",
        "\n",
        "    def call(self, x, training=False):\n",
        "        for layer in self.slayers:\n",
        "            try:  # training argument only for BN layer\n",
        "                x = layer(x, training) \n",
        "            except:\n",
        "                x = layer(x)\n",
        "        return x\n",
        "\n",
        "\n",
        "\n",
        "\n",
        "class Generator(tf.keras.Model):\n",
        "    def __init__(self, latent_dim=100, restore_shape=(7,7,64)):\n",
        "        super(Generator, self).__init__()\n",
        "        self.latent_dim = latent_dim\n",
        "        self.slayers = [tf.keras.layers.Dense(units=int(tf.math.reduce_prod(restore_shape)),\n",
        "                                             input_shape=(latent_dim,)),\n",
        "                       tf.keras.layers.BatchNormalization(),\n",
        "                       tf.keras.layers.Activation('relu'),\n",
        "                       # reshape to 3 dim with depth dim again\n",
        "                       tf.keras.layers.Reshape(target_shape=restore_shape),\n",
        "                       # (2,2) strided transposed conv to upsample        \n",
        "                       tf.keras.layers.Conv2DTranspose(filters=32,\n",
        "                                                       kernel_size=(3,3),\n",
        "                                                       strides=(2,2),\n",
        "                                                       padding='same'),\n",
        "                       tf.keras.layers.BatchNormalization(),\n",
        "                       tf.keras.layers.Activation('relu'),\n",
        "                       # restore image by convolution with image size\n",
        "                       tf.keras.layers.Conv2DTranspose(filters=1,\n",
        "                                                       kernel_size=(3,3),\n",
        "                                                       strides=(2,2),\n",
        "                                                       padding='same'),\n",
        "                       tf.keras.layers.BatchNormalization(),\n",
        "                       # use sigmoid to get values between 0 and 1\n",
        "                       tf.keras.layers.Activation('sigmoid')]\n",
        "\n",
        "\n",
        "    def call(self, x, training=False):\n",
        "        for layer in self.slayers:\n",
        "            try:  # training argument only for BN layer\n",
        "                x = layer(x, training) \n",
        "            except:\n",
        "                x = layer(x)\n",
        "        return x\n"
      ],
      "execution_count": null,
      "outputs": []
    },
    {
      "cell_type": "markdown",
      "metadata": {
        "id": "ZADYX7iJhpEQ"
      },
      "source": [
        "# 3. Training\n",
        "\n",
        "- generator tries to trick discriminator. Thus only the 'trick rate' matters.\n",
        "\n",
        "- discriminator tries to classify real images from generated images. Loss function should take both into account\n",
        "\n",
        "- Loss at test phase doesn't tell us much. Instead, we should rather look at generated pictures. "
      ]
    },
    {
      "cell_type": "markdown",
      "metadata": {
        "id": "o9Xo42YTk-sM"
      },
      "source": [
        "### Functions"
      ]
    },
    {
      "cell_type": "code",
      "metadata": {
        "id": "rS0LWQf1jRMc"
      },
      "source": [
        "@tf.function\n",
        "def training_step_GAN(data, model_gen, model_disc, loss_f_disc, loss_f_gen,\n",
        "                      disc_optimizer, gen_optimizer, metric_gen, metric_disc,\n",
        "                      n_disc=1):\n",
        "    '''\n",
        "    Train discriminator for n_disc epochs and generator for 1 epoch.\n",
        "    For vanila GAN, n_disc = 1.\n",
        "    '''  \n",
        "    # Train Discriminator n_disc times more. Used for WGAN.  \n",
        "    for epoch_disc in range(n_disc):\n",
        "        for batch_true in data:\n",
        "            with tf.GradientTape() as tape_disc: \n",
        "                # generate fake data\n",
        "                noise_in_z = tf.random.normal([tf.shape(batch_true)[0], model_gen.latent_dim])\n",
        "                batch_gen = model_gen(noise_in_z)  \n",
        "                # prediction (logistic) of discriminator\n",
        "                fake_pred = model_disc(batch_gen, training=True)\n",
        "                true_pred = model_disc(batch_true, training=True)\n",
        "                # compute loss. Arguments should be handed in right orders\n",
        "                loss_disc = loss_f_disc(fake_pred, true_pred)\n",
        "            # compute gradient dl/dw\n",
        "            g_disc = tape_disc.gradient(loss_disc, model_disc.trainable_variables)\n",
        "            # gradient descent\n",
        "            disc_optimizer.apply_gradients(zip(g_disc, model_disc.trainable_variables))\n",
        "            # save mean loss values\n",
        "            metric_disc.update_state(loss_disc)\n",
        "\n",
        "\n",
        "    # Train Generator\n",
        "    for batch_true in data:\n",
        "        with tf.GradientTape() as tape_gen:\n",
        "            noise_in_z = tf.random.normal([tf.shape(batch_true)[0], model_gen.latent_dim])\n",
        "            batch_gen = model_gen(noise_in_z, training=True)\n",
        "            fake_pred = model_disc(batch_gen)\n",
        "            true_pred = model_disc(batch_true)  \n",
        "            loss_gen = loss_f_gen(fake_pred)\n",
        "        g_gen = tape_gen.gradient(loss_gen, model_gen.trainable_variables)\n",
        "        gen_optimizer.apply_gradients(zip(g_gen, model_gen.trainable_variables))\n",
        "        metric_gen.update_state(loss_gen)\n",
        "    \n",
        "\n",
        "def evaluation_step_GAN(model_gen, num_image=10):\n",
        "    '''\n",
        "    Plot generated images\n",
        "    '''\n",
        "    num_row = (num_image-1) // 5  + 1\n",
        "    num_col = 5\n",
        "    fig, ax = plt.subplots(nrows=num_row, ncols=num_col, figsize=(20,4*num_row))\n",
        "\n",
        "    # create num_image images\n",
        "    for i in range(num_image):\n",
        "        noise_in_z = tf.expand_dims(tf.random.normal([generator.latent_dim]),0)\n",
        "        img_gen = model_gen(noise_in_z)  # use generator to get create images\n",
        "        ax[i//5, i%5].imshow(img_gen[0,:,:,0], cmap='gray')\n",
        "        ax[i//5, i%5].set(xticks=[], yticks=[], xticklabels=[], yticklabels=[])\n",
        "    plt.show()"
      ],
      "execution_count": null,
      "outputs": []
    },
    {
      "cell_type": "code",
      "metadata": {
        "id": "ucURHyJI1vN2"
      },
      "source": [
        "class Timer():\n",
        "    \"\"\"\n",
        "    A small class to measure time during training.\n",
        "    \"\"\"\n",
        "    def __init__(self):\n",
        "        self._start_time = None\n",
        "\n",
        "\n",
        "    def start(self):\n",
        "        \"\"\"\n",
        "        Start a new timer\n",
        "        \"\"\"\n",
        "        if self._start_time is not None:\n",
        "            print(f\"Timer is running. Use .stop() to stop it\")\n",
        "            return None\n",
        "\n",
        "        self._start_time = time.perf_counter()\n",
        "\n",
        "\n",
        "    def stop(self):\n",
        "        \"\"\"\n",
        "        Stop the timer, and report the elapsed time\n",
        "        \"\"\"\n",
        "        if self._start_time is None:\n",
        "            print(f\"Timer is not running. Use .start() to start it\")\n",
        "            return 0\n",
        "    \n",
        "        elapsed_time = time.perf_counter() - self._start_time\n",
        "        self._start_time = None\n",
        "        return elapsed_time"
      ],
      "execution_count": null,
      "outputs": []
    },
    {
      "cell_type": "markdown",
      "metadata": {
        "id": "LbinP1_8kTOp"
      },
      "source": [
        "### Design of model"
      ]
    },
    {
      "cell_type": "code",
      "metadata": {
        "colab": {
          "base_uri": "https://localhost:8080/"
        },
        "id": "NGXK-wkV1rXb",
        "outputId": "3afdb6e6-93e5-4c8e-9ddf-11d0f6dfcbf2"
      },
      "source": [
        "# Hyperparameters\n",
        "epochs = 25\n",
        "learning_rate_disc = 0.0001\n",
        "learning_rate_gen = 0.0001\n",
        "latent_dim = 100\n",
        "\n",
        "tf.keras.backend.clear_session()  # clear session from previous models\n",
        "timer = Timer()  # instantiate the timer\n",
        "\n",
        "# architecture\n",
        "generator = Generator()\n",
        "discriminator = Discriminator()\n",
        "generator.build((None,latent_dim))\n",
        "discriminator.build((None,28,28,1))\n",
        "generator.summary()\n",
        "discriminator.summary()\n",
        "\n",
        "# optimizer\n",
        "adam_disc = tf.keras.optimizers.Adam(learning_rate_disc)\n",
        "adam_gen = tf.keras.optimizers.Adam(learning_rate_gen)\n",
        "\n",
        "# loss function\n",
        "bce = tf.keras.losses.BinaryCrossentropy()\n",
        "loss_disc_vanila = lambda fake_pred, true_pred: bce(tf.zeros_like(fake_pred), fake_pred) + bce(tf.ones_like(true_pred), true_pred)\n",
        "loss_gen_vanila = lambda fake_pred: bce(tf.ones_like(fake_pred), fake_pred) "
      ],
      "execution_count": null,
      "outputs": [
        {
          "output_type": "stream",
          "text": [
            "Model: \"generator\"\n",
            "_________________________________________________________________\n",
            "Layer (type)                 Output Shape              Param #   \n",
            "=================================================================\n",
            "dense (Dense)                multiple                  316736    \n",
            "_________________________________________________________________\n",
            "batch_normalization (BatchNo multiple                  12544     \n",
            "_________________________________________________________________\n",
            "activation (Activation)      multiple                  0         \n",
            "_________________________________________________________________\n",
            "reshape (Reshape)            multiple                  0         \n",
            "_________________________________________________________________\n",
            "conv2d_transpose (Conv2DTran multiple                  18464     \n",
            "_________________________________________________________________\n",
            "batch_normalization_1 (Batch multiple                  128       \n",
            "_________________________________________________________________\n",
            "activation_1 (Activation)    multiple                  0         \n",
            "_________________________________________________________________\n",
            "conv2d_transpose_1 (Conv2DTr multiple                  289       \n",
            "_________________________________________________________________\n",
            "batch_normalization_2 (Batch multiple                  4         \n",
            "_________________________________________________________________\n",
            "activation_2 (Activation)    multiple                  0         \n",
            "=================================================================\n",
            "Total params: 348,165\n",
            "Trainable params: 341,827\n",
            "Non-trainable params: 6,338\n",
            "_________________________________________________________________\n",
            "Model: \"discriminator\"\n",
            "_________________________________________________________________\n",
            "Layer (type)                 Output Shape              Param #   \n",
            "=================================================================\n",
            "conv2d (Conv2D)              multiple                  320       \n",
            "_________________________________________________________________\n",
            "batch_normalization_3 (Batch multiple                  128       \n",
            "_________________________________________________________________\n",
            "activation_3 (Activation)    multiple                  0         \n",
            "_________________________________________________________________\n",
            "conv2d_1 (Conv2D)            multiple                  18496     \n",
            "_________________________________________________________________\n",
            "batch_normalization_4 (Batch multiple                  256       \n",
            "_________________________________________________________________\n",
            "activation_4 (Activation)    multiple                  0         \n",
            "_________________________________________________________________\n",
            "flatten (Flatten)            multiple                  0         \n",
            "_________________________________________________________________\n",
            "dense_1 (Dense)              multiple                  2305      \n",
            "=================================================================\n",
            "Total params: 21,505\n",
            "Trainable params: 21,313\n",
            "Non-trainable params: 192\n",
            "_________________________________________________________________\n"
          ],
          "name": "stdout"
        }
      ]
    },
    {
      "cell_type": "markdown",
      "metadata": {
        "id": "J4cBJmo4kIlI"
      },
      "source": [
        "### Init recording objects"
      ]
    },
    {
      "cell_type": "code",
      "metadata": {
        "id": "ANxUBhHV8UGn"
      },
      "source": [
        "# take mean over different data points in the training loop\n",
        "train_loss_gen = tf.keras.metrics.Mean('generator')\n",
        "train_loss_disc = tf.keras.metrics.Mean('discriminator')\n",
        "\n",
        "# initialize the logger for Tensorboard visualization\n",
        "current_time = datetime.datetime.now().strftime(\"%Y%m%d-%H%M%S\")\n",
        "train_log_dir = 'logs/gradient_tape/' + current_time + '/train_GAN'      # defining the log dir\n",
        "train_summary_writer = tf.summary.create_file_writer(train_log_dir)  # training logger\n",
        "\n",
        "# Initialize lists for later visualization.\n",
        "train_losses_disc = []\n",
        "train_losses_gen = []\n",
        "times = []"
      ],
      "execution_count": null,
      "outputs": []
    },
    {
      "cell_type": "markdown",
      "metadata": {
        "id": "P4PTybcFkErw"
      },
      "source": [
        "### Main loop"
      ]
    },
    {
      "cell_type": "code",
      "metadata": {
        "colab": {
          "base_uri": "https://localhost:8080/",
          "height": 1000
        },
        "id": "HcZeR2nm9f3T",
        "outputId": "c2108bcc-9737-4618-9f9f-363c5e9ffe76"
      },
      "source": [
        "for epoch in range(epochs):\n",
        "    print(f'\\n[EPOCH] ____________________{epoch}____________________')\n",
        "    \n",
        "    # Training\n",
        "    timer.start()\n",
        "    training_step_GAN(train_ds, generator, discriminator, \n",
        "                      loss_disc_vanila, loss_gen_vanila, adam_disc, adam_gen, \n",
        "                      train_loss_disc, train_loss_gen)\n",
        "    \n",
        "    # logging our metrics to a file which is used by tensorboard\n",
        "    with train_summary_writer.as_default():     \n",
        "        tf.summary.scalar('discriminator', train_loss_disc.result(), step=epoch)\n",
        "        tf.summary.scalar('generator', train_loss_gen.result(), step=epoch)\n",
        "    # log losses and reset logging metrics\n",
        "    train_loss_disc.reset_states()\n",
        "    train_loss_gen.reset_states()\n",
        "    # time and print progress\n",
        "    elapsed_time = timer.stop()\n",
        "    times.append(elapsed_time)\n",
        "    print(f'[{epoch}] - Finished Epoch in {elapsed_time:0.2f} seconds - train_loss_disc: {train_loss_disc.result() :0.4f}, train_loss_gen: {train_loss_gen.result() :0.4f}')\n",
        "    \n",
        "    # Test (visualize)\n",
        "    timer.start()\n",
        "    generated_image = evaluation_step_GAN(generator)\n",
        "    elapsed_time = timer.stop()\n",
        "    times.append(elapsed_time)\n",
        "    plt.show()\n",
        "  \n",
        "    # Print progress\n",
        "    if epoch%3 == 0:\n",
        "        print(f'\\n[INFO] - Total time elapsed: {np.sum(times)/60:0.4f} min. Total time remaining: {(np.sum(times)/(epoch+1))*(epochs-epoch-1)/60:0.4f} min.')\n",
        "\n",
        "print(f'[INFO] - Total run time: {np.sum(times)/60:0.4f} min.')"
      ],
      "execution_count": null,
      "outputs": [
        {
          "output_type": "stream",
          "text": [
            "\n",
            "[EPOCH] ____________________0____________________\n",
            "Timer is running. Use .stop() to stop it\n",
            "[0] - Finished Epoch in 82.09 seconds - train_loss_disc: 0.0000, train_loss_gen: 0.0000\n"
          ],
          "name": "stdout"
        },
        {
          "output_type": "display_data",
          "data": {
            "image/png": "[encoded data removed]",
            "text/plain": [
              "<Figure size 1440x576 with 10 Axes>"
            ]
          },
          "metadata": {
            "tags": []
          }
        },
        {
          "output_type": "stream",
          "text": [
            "\n",
            "[INFO] - Total time elapsed: 16.7227 min. Total time remaining: 401.3442 min.\n",
            "\n",
            "[EPOCH] ____________________1____________________\n",
            "[1] - Finished Epoch in 9.48 seconds - train_loss_disc: 0.0000, train_loss_gen: 0.0000\n"
          ],
          "name": "stdout"
        },
        {
          "output_type": "display_data",
          "data": {
            "image/png": "[encoded data removed]",
            "text/plain": [
              "<Figure size 1440x576 with 10 Axes>"
            ]
          },
          "metadata": {
            "tags": []
          }
        },
        {
          "output_type": "stream",
          "text": [
            "\n",
            "[EPOCH] ____________________2____________________\n",
            "[2] - Finished Epoch in 9.51 seconds - train_loss_disc: 0.0000, train_loss_gen: 0.0000\n"
          ],
          "name": "stdout"
        },
        {
          "output_type": "display_data",
          "data": {
            "image/png": "[encoded data removed]",
            "text/plain": [
              "<Figure size 1440x576 with 10 Axes>"
            ]
          },
          "metadata": {
            "tags": []
          }
        },
        {
          "output_type": "stream",
          "text": [
            "\n",
            "[EPOCH] ____________________3____________________\n",
            "[3] - Finished Epoch in 10.08 seconds - train_loss_disc: 0.0000, train_loss_gen: 0.0000\n"
          ],
          "name": "stdout"
        },
        {
          "output_type": "display_data",
          "data": {
            "image/png": "[encoded data removed]",
            "text/plain": [
              "<Figure size 1440x576 with 10 Axes>"
            ]
          },
          "metadata": {
            "tags": []
          }
        },
        {
          "output_type": "stream",
          "text": [
            "\n",
            "[INFO] - Total time elapsed: 17.2280 min. Total time remaining: 90.4473 min.\n",
            "\n",
            "[EPOCH] ____________________4____________________\n"
          ],
          "name": "stdout"
        },
        {
          "output_type": "error",
          "ename": "KeyboardInterrupt",
          "evalue": "ignored",
          "traceback": [
            "\u001b[0;31m---------------------------------------------------------------------------\u001b[0m",
            "\u001b[0;31mKeyboardInterrupt\u001b[0m                         Traceback (most recent call last)",
            "\u001b[0;32m<ipython-input-32-8b2acdb9e2b9>\u001b[0m in \u001b[0;36m<module>\u001b[0;34m()\u001b[0m\n\u001b[1;32m      6\u001b[0m     training_step_GAN(train_ds, generator, discriminator, \n\u001b[1;32m      7\u001b[0m                       \u001b[0mloss_disc_vanila\u001b[0m\u001b[0;34m,\u001b[0m \u001b[0mloss_gen_vanila\u001b[0m\u001b[0;34m,\u001b[0m \u001b[0madam_disc\u001b[0m\u001b[0;34m,\u001b[0m \u001b[0madam_gen\u001b[0m\u001b[0;34m,\u001b[0m\u001b[0;34m\u001b[0m\u001b[0;34m\u001b[0m\u001b[0m\n\u001b[0;32m----> 8\u001b[0;31m                       train_loss_disc, train_loss_gen)\n\u001b[0m\u001b[1;32m      9\u001b[0m \u001b[0;34m\u001b[0m\u001b[0m\n\u001b[1;32m     10\u001b[0m     \u001b[0;31m# logging our metrics to a file which is used by tensorboard\u001b[0m\u001b[0;34m\u001b[0m\u001b[0;34m\u001b[0m\u001b[0;34m\u001b[0m\u001b[0m\n",
            "\u001b[0;32m/usr/local/lib/python3.6/dist-packages/tensorflow/python/eager/def_function.py\u001b[0m in \u001b[0;36m__call__\u001b[0;34m(self, *args, **kwds)\u001b[0m\n\u001b[1;32m    826\u001b[0m     \u001b[0mtracing_count\u001b[0m \u001b[0;34m=\u001b[0m \u001b[0mself\u001b[0m\u001b[0;34m.\u001b[0m\u001b[0mexperimental_get_tracing_count\u001b[0m\u001b[0;34m(\u001b[0m\u001b[0;34m)\u001b[0m\u001b[0;34m\u001b[0m\u001b[0;34m\u001b[0m\u001b[0m\n\u001b[1;32m    827\u001b[0m     \u001b[0;32mwith\u001b[0m \u001b[0mtrace\u001b[0m\u001b[0;34m.\u001b[0m\u001b[0mTrace\u001b[0m\u001b[0;34m(\u001b[0m\u001b[0mself\u001b[0m\u001b[0;34m.\u001b[0m\u001b[0m_name\u001b[0m\u001b[0;34m)\u001b[0m \u001b[0;32mas\u001b[0m \u001b[0mtm\u001b[0m\u001b[0;34m:\u001b[0m\u001b[0;34m\u001b[0m\u001b[0;34m\u001b[0m\u001b[0m\n\u001b[0;32m--> 828\u001b[0;31m       \u001b[0mresult\u001b[0m \u001b[0;34m=\u001b[0m \u001b[0mself\u001b[0m\u001b[0;34m.\u001b[0m\u001b[0m_call\u001b[0m\u001b[0;34m(\u001b[0m\u001b[0;34m*\u001b[0m\u001b[0margs\u001b[0m\u001b[0;34m,\u001b[0m \u001b[0;34m**\u001b[0m\u001b[0mkwds\u001b[0m\u001b[0;34m)\u001b[0m\u001b[0;34m\u001b[0m\u001b[0;34m\u001b[0m\u001b[0m\n\u001b[0m\u001b[1;32m    829\u001b[0m       \u001b[0mcompiler\u001b[0m \u001b[0;34m=\u001b[0m \u001b[0;34m\"xla\"\u001b[0m \u001b[0;32mif\u001b[0m \u001b[0mself\u001b[0m\u001b[0;34m.\u001b[0m\u001b[0m_experimental_compile\u001b[0m \u001b[0;32melse\u001b[0m \u001b[0;34m\"nonXla\"\u001b[0m\u001b[0;34m\u001b[0m\u001b[0;34m\u001b[0m\u001b[0m\n\u001b[1;32m    830\u001b[0m       \u001b[0mnew_tracing_count\u001b[0m \u001b[0;34m=\u001b[0m \u001b[0mself\u001b[0m\u001b[0;34m.\u001b[0m\u001b[0mexperimental_get_tracing_count\u001b[0m\u001b[0;34m(\u001b[0m\u001b[0;34m)\u001b[0m\u001b[0;34m\u001b[0m\u001b[0;34m\u001b[0m\u001b[0m\n",
            "\u001b[0;32m/usr/local/lib/python3.6/dist-packages/tensorflow/python/eager/def_function.py\u001b[0m in \u001b[0;36m_call\u001b[0;34m(self, *args, **kwds)\u001b[0m\n\u001b[1;32m    860\u001b[0m       \u001b[0;31m# In this case we have not created variables on the first call. So we can\u001b[0m\u001b[0;34m\u001b[0m\u001b[0;34m\u001b[0m\u001b[0;34m\u001b[0m\u001b[0m\n\u001b[1;32m    861\u001b[0m       \u001b[0;31m# run the first trace but we should fail if variables are created.\u001b[0m\u001b[0;34m\u001b[0m\u001b[0;34m\u001b[0m\u001b[0;34m\u001b[0m\u001b[0m\n\u001b[0;32m--> 862\u001b[0;31m       \u001b[0mresults\u001b[0m \u001b[0;34m=\u001b[0m \u001b[0mself\u001b[0m\u001b[0;34m.\u001b[0m\u001b[0m_stateful_fn\u001b[0m\u001b[0;34m(\u001b[0m\u001b[0;34m*\u001b[0m\u001b[0margs\u001b[0m\u001b[0;34m,\u001b[0m \u001b[0;34m**\u001b[0m\u001b[0mkwds\u001b[0m\u001b[0;34m)\u001b[0m\u001b[0;34m\u001b[0m\u001b[0;34m\u001b[0m\u001b[0m\n\u001b[0m\u001b[1;32m    863\u001b[0m       \u001b[0;32mif\u001b[0m \u001b[0mself\u001b[0m\u001b[0;34m.\u001b[0m\u001b[0m_created_variables\u001b[0m\u001b[0;34m:\u001b[0m\u001b[0;34m\u001b[0m\u001b[0;34m\u001b[0m\u001b[0m\n\u001b[1;32m    864\u001b[0m         raise ValueError(\"Creating variables on a non-first call to a function\"\n",
            "\u001b[0;32m/usr/local/lib/python3.6/dist-packages/tensorflow/python/eager/function.py\u001b[0m in \u001b[0;36m__call__\u001b[0;34m(self, *args, **kwargs)\u001b[0m\n\u001b[1;32m   2941\u001b[0m        filtered_flat_args) = self._maybe_define_function(args, kwargs)\n\u001b[1;32m   2942\u001b[0m     return graph_function._call_flat(\n\u001b[0;32m-> 2943\u001b[0;31m         filtered_flat_args, captured_inputs=graph_function.captured_inputs)  # pylint: disable=protected-access\n\u001b[0m\u001b[1;32m   2944\u001b[0m \u001b[0;34m\u001b[0m\u001b[0m\n\u001b[1;32m   2945\u001b[0m   \u001b[0;34m@\u001b[0m\u001b[0mproperty\u001b[0m\u001b[0;34m\u001b[0m\u001b[0;34m\u001b[0m\u001b[0m\n",
            "\u001b[0;32m/usr/local/lib/python3.6/dist-packages/tensorflow/python/eager/function.py\u001b[0m in \u001b[0;36m_call_flat\u001b[0;34m(self, args, captured_inputs, cancellation_manager)\u001b[0m\n\u001b[1;32m   1917\u001b[0m       \u001b[0;31m# No tape is watching; skip to running the function.\u001b[0m\u001b[0;34m\u001b[0m\u001b[0;34m\u001b[0m\u001b[0;34m\u001b[0m\u001b[0m\n\u001b[1;32m   1918\u001b[0m       return self._build_call_outputs(self._inference_function.call(\n\u001b[0;32m-> 1919\u001b[0;31m           ctx, args, cancellation_manager=cancellation_manager))\n\u001b[0m\u001b[1;32m   1920\u001b[0m     forward_backward = self._select_forward_and_backward_functions(\n\u001b[1;32m   1921\u001b[0m         \u001b[0margs\u001b[0m\u001b[0;34m,\u001b[0m\u001b[0;34m\u001b[0m\u001b[0;34m\u001b[0m\u001b[0m\n",
            "\u001b[0;32m/usr/local/lib/python3.6/dist-packages/tensorflow/python/eager/function.py\u001b[0m in \u001b[0;36mcall\u001b[0;34m(self, ctx, args, cancellation_manager)\u001b[0m\n\u001b[1;32m    558\u001b[0m               \u001b[0minputs\u001b[0m\u001b[0;34m=\u001b[0m\u001b[0margs\u001b[0m\u001b[0;34m,\u001b[0m\u001b[0;34m\u001b[0m\u001b[0;34m\u001b[0m\u001b[0m\n\u001b[1;32m    559\u001b[0m               \u001b[0mattrs\u001b[0m\u001b[0;34m=\u001b[0m\u001b[0mattrs\u001b[0m\u001b[0;34m,\u001b[0m\u001b[0;34m\u001b[0m\u001b[0;34m\u001b[0m\u001b[0m\n\u001b[0;32m--> 560\u001b[0;31m               ctx=ctx)\n\u001b[0m\u001b[1;32m    561\u001b[0m         \u001b[0;32melse\u001b[0m\u001b[0;34m:\u001b[0m\u001b[0;34m\u001b[0m\u001b[0;34m\u001b[0m\u001b[0m\n\u001b[1;32m    562\u001b[0m           outputs = execute.execute_with_cancellation(\n",
            "\u001b[0;32m/usr/local/lib/python3.6/dist-packages/tensorflow/python/eager/execute.py\u001b[0m in \u001b[0;36mquick_execute\u001b[0;34m(op_name, num_outputs, inputs, attrs, ctx, name)\u001b[0m\n\u001b[1;32m     58\u001b[0m     \u001b[0mctx\u001b[0m\u001b[0;34m.\u001b[0m\u001b[0mensure_initialized\u001b[0m\u001b[0;34m(\u001b[0m\u001b[0;34m)\u001b[0m\u001b[0;34m\u001b[0m\u001b[0;34m\u001b[0m\u001b[0m\n\u001b[1;32m     59\u001b[0m     tensors = pywrap_tfe.TFE_Py_Execute(ctx._handle, device_name, op_name,\n\u001b[0;32m---> 60\u001b[0;31m                                         inputs, attrs, num_outputs)\n\u001b[0m\u001b[1;32m     61\u001b[0m   \u001b[0;32mexcept\u001b[0m \u001b[0mcore\u001b[0m\u001b[0;34m.\u001b[0m\u001b[0m_NotOkStatusException\u001b[0m \u001b[0;32mas\u001b[0m \u001b[0me\u001b[0m\u001b[0;34m:\u001b[0m\u001b[0;34m\u001b[0m\u001b[0;34m\u001b[0m\u001b[0m\n\u001b[1;32m     62\u001b[0m     \u001b[0;32mif\u001b[0m \u001b[0mname\u001b[0m \u001b[0;32mis\u001b[0m \u001b[0;32mnot\u001b[0m \u001b[0;32mNone\u001b[0m\u001b[0;34m:\u001b[0m\u001b[0;34m\u001b[0m\u001b[0;34m\u001b[0m\u001b[0m\n",
            "\u001b[0;31mKeyboardInterrupt\u001b[0m: "
          ]
        }
      ]
    },
    {
      "cell_type": "markdown",
      "metadata": {
        "id": "-q8UhNhOmmyP"
      },
      "source": [
        "### Visualize loss"
      ]
    },
    {
      "cell_type": "code",
      "metadata": {
        "id": "LCykB1rooVZn"
      },
      "source": [
        "%reload_ext tensorboard\r\n",
        "%tensorboard --logdir logs/gradient_tape"
      ],
      "execution_count": null,
      "outputs": []
    },
    {
      "cell_type": "markdown",
      "metadata": {
        "id": "pP3OeQaw6RVQ"
      },
      "source": [
        "Screenshot of the training results on Tensorboard"
      ]
    },
    {
      "cell_type": "markdown",
      "metadata": {
        "id": "Rfvsrb2d6N2A"
      },
      "source": [
        "![grafik.png](data:image/png;base64,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)"
      ]
    },
    {
      "cell_type": "markdown",
      "metadata": {
        "id": "ysqKlnFBhRwH"
      },
      "source": [
        "# Extra. WGAN\n",
        "based on https://wiseodd.github.io/techblog/2017/02/04/wasserstein-gan/\n",
        "\n",
        "Diffences to vanila GAN:\n",
        "\n",
        "1) loss functions: use Wasserstein distance\n",
        "\n",
        "2) clipping of $w_{disc}$ to enforce Lipschitz-continuity\n",
        "\n",
        "3) the discriminator is trained more often than the generator\n",
        "\n",
        "4) optimizer (RMSprop instead of Adam)\n",
        "\n",
        "5) smaller learning rate (0.00005)"
      ]
    },
    {
      "cell_type": "markdown",
      "metadata": {
        "id": "6V52Q4A3lkSr"
      },
      "source": [
        "### Model"
      ]
    },
    {
      "cell_type": "code",
      "metadata": {
        "id": "m4t0mCanq3iF"
      },
      "source": [
        "class ClipConstraint(tf.keras.constraints.Constraint):\n",
        "    '''\n",
        "    Constrain the range of weights in WGAN discriminator by \n",
        "    clipping to satisfy Lipschitz-continuity naively\n",
        "    '''\n",
        "\n",
        "\n",
        "    def __init__(self, minval=-0.01, maxval=0.01):\n",
        "        self.min = minval\n",
        "        self.max = maxval\n",
        "\n",
        "\n",
        "    def __call__(self, weights):\n",
        "        return tf.clip_by_value(weights, self.min, self.max)\n",
        "\n",
        "\n",
        "    def get_config(self):\n",
        "        return {'minimum clip value': self.min, 'maximum clip value': self.max}\n",
        "\n",
        "\n",
        "class WassersteinDiscriminator(tf.keras.Model):\n",
        "    '''\n",
        "    Analogous to a vanila discriminator except for usage of clipping and \n",
        "    linear activation instead of sigmoid at output layer.\n",
        "    '''\n",
        "\n",
        "\n",
        "    def __init__(self):\n",
        "        super(WassersteinDiscriminator, self).__init__()\n",
        "        self.slayers = [tf.keras.layers.Conv2D(filters=32,\n",
        "                                               kernel_size=3,\n",
        "                                               strides=(2,2),\n",
        "                                               bias_constraint=ClipConstraint(),\n",
        "                                               kernel_constraint=ClipConstraint(),\n",
        "                                               input_shape=(None,28,28,1)),\n",
        "                        tf.keras.layers.BatchNormalization(),\n",
        "                        tf.keras.layers.Activation('relu'),\n",
        "                        tf.keras.layers.Conv2D(filters=64,\n",
        "                                               kernel_size=3,\n",
        "                                               strides=(2,2),\n",
        "                                               bias_constraint=ClipConstraint(),\n",
        "                                               kernel_constraint=ClipConstraint()),\n",
        "                        tf.keras.layers.BatchNormalization(),\n",
        "                        tf.keras.layers.Activation('relu'),\n",
        "                        tf.keras.layers.Flatten(),\n",
        "                        # binary decision of fake/real data\n",
        "                        tf.keras.layers.Dense(1,  # linear activation\n",
        "                                              bias_constraint=ClipConstraint(),\n",
        "                                              kernel_constraint=ClipConstraint())]\n",
        "\n",
        "                                              \n",
        "\n",
        "    def call(self, x, training=False):\n",
        "        for layer in self.slayers:\n",
        "            try:  # training argument only for BN layer\n",
        "                x = layer(x, training) \n",
        "            except:\n",
        "                x = layer(x)\n",
        "        return x"
      ],
      "execution_count": null,
      "outputs": []
    },
    {
      "cell_type": "markdown",
      "metadata": {
        "id": "gXruKGpSmNDD"
      },
      "source": [
        "### Design choices"
      ]
    },
    {
      "cell_type": "code",
      "metadata": {
        "id": "6XhHFT89q-wn"
      },
      "source": [
        "# Hyperparameters\n",
        "epochs = 25\n",
        "n_disc = 5  # discriminator is trained epochs x n_disc times\n",
        "learning_rate_disc = 0.00005  # smaller learning rate\n",
        "learning_rate_gen = 0.00005\n",
        "latent_dim = 100\n",
        "\n",
        "tf.keras.backend.clear_session()  # clear session from previous models\n",
        "timer = Timer()  # Instantiate the timer\n",
        "\n",
        "# Architeture\n",
        "generator = Generator()\n",
        "discriminator = WassersteinDiscriminator()\n",
        "generator.build((None,latent_dim))\n",
        "discriminator.build((None,28,28,1))\n",
        "generator.summary()\n",
        "discriminator.summary()\n",
        "\n",
        "# Optimizer: RMSprop as in the original paper\n",
        "opti_disc = tf.keras.optimizers.RMSprop(learning_rate_disc)\n",
        "opti_gen = tf.keras.optimizers.RMSprop(learning_rate_gen)\n",
        "\n",
        "# Loss function: sign is reversed and log isn't used anymore\n",
        "loss_disc_WGAN = lambda fake_pred, true_pred: tf.reduce_mean(true_pred) - tf.reduce_mean(fake_pred)\n",
        "loss_gen_WGAN = lambda fake_pred: -tf.reduce_mean(fake_pred)"
      ],
      "execution_count": null,
      "outputs": []
    },
    {
      "cell_type": "markdown",
      "metadata": {
        "id": "o8P0lVnqu82p"
      },
      "source": [
        "### Init recording objects"
      ]
    },
    {
      "cell_type": "code",
      "metadata": {
        "id": "pLSAQjCEu82q"
      },
      "source": [
        "# take mean over different data points in the training loop\n",
        "train_loss_gen = tf.keras.metrics.Mean('generator')\n",
        "train_loss_disc = tf.keras.metrics.Mean('discriminator')\n",
        "\n",
        "# initialize the logger for Tensorboard visualization\n",
        "current_time = datetime.datetime.now().strftime(\"%Y%m%d-%H%M%S\")\n",
        "train_log_dir = 'logs/gradient_tape/' + current_time + '/train_WGAN'      # defining the log dir\n",
        "train_summary_writer = tf.summary.create_file_writer(train_log_dir)  # training logger\n",
        "\n",
        "# Initialize lists for later visualization.\n",
        "train_losses_disc = []\n",
        "train_losses_gen = []\n",
        "times = []"
      ],
      "execution_count": null,
      "outputs": []
    },
    {
      "cell_type": "markdown",
      "metadata": {
        "id": "IO7lKo7-u82r"
      },
      "source": [
        "### Main loop"
      ]
    },
    {
      "cell_type": "code",
      "metadata": {
        "id": "wO2K2pl_u82t"
      },
      "source": [
        "for epoch in range(epochs):\n",
        "    print(f'\\n[EPOCH] ____________________{epoch}____________________')\n",
        "    \n",
        "    # Training\n",
        "    timer.start()\n",
        "    training_step_GAN(train_ds, generator, discriminator,\n",
        "                      # use WGAN loss \n",
        "                      loss_disc_WGAN, loss_gen_WGAN, adam_disc, adam_gen, \n",
        "                      train_loss_disc, train_loss_gen)\n",
        "    \n",
        "    # logging our metrics to a file which is used by tensorboard\n",
        "    with train_summary_writer.as_default():     \n",
        "        tf.summary.scalar('discriminator', train_loss_disc.result(), step=epoch)\n",
        "        tf.summary.scalar('generator', train_loss_gen.result(), step=epoch)\n",
        "    # log losses and reset logging metrics\n",
        "    train_loss_disc.reset_states()\n",
        "    train_loss_gen.reset_states()\n",
        "    # time and print progress\n",
        "    elapsed_time = timer.stop()\n",
        "    times.append(elapsed_time)\n",
        "    print(f'[{epoch}] - Finished Epoch in {elapsed_time:0.2f} seconds - train_loss_disc: {train_loss_disc.result() :0.4f}, train_loss_gen: {train_loss_gen.result() :0.4f}')\n",
        "    \n",
        "    # Test (visualize)\n",
        "    timer.start()\n",
        "    generated_image = evaluation_step_GAN(generator)\n",
        "    elapsed_time = timer.stop()\n",
        "    times.append(elapsed_time)\n",
        "    plt.show()\n",
        "  \n",
        "    # Print progress\n",
        "    if epoch%3 == 0:\n",
        "        print(f'\\n[INFO] - Total time elapsed: {np.sum(times)/60:0.4f} min. Total time remaining: {(np.sum(times)/(epoch+1))*(epochs-epoch-1)/60:0.4f} min.')\n",
        "\n",
        "print(f'[INFO] - Total run time: {np.sum(times)/60:0.4f} min.')"
      ],
      "execution_count": null,
      "outputs": []
    },
    {
      "cell_type": "code",
      "metadata": {
        "id": "1BS0BSJKeBAw"
      },
      "source": [
        "%reload_ext tensorboard\n",
        "%tensorboard --logdir logs/gradient_tape"
      ],
      "execution_count": null,
      "outputs": []
    },
    {
      "cell_type": "markdown",
      "metadata": {
        "id": "C-uaF8-_zLqR"
      },
      "source": [
        "is this a checkerboard artifact?\n",
        "\n",
        "Also, the training func seems like it cannot be used twice (non-first excute error or something)\n",
        "\n",
        "How tensorboard tracker should be reconfigured to average over $n_{disc}$ trials"
      ]
    }
  ]
}